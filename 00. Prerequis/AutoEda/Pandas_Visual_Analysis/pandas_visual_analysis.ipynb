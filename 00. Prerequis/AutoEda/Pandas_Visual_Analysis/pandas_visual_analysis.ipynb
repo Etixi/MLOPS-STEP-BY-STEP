{
 "cells": [
  {
   "cell_type": "code",
   "execution_count": 7,
   "id": "ae55b24a",
   "metadata": {},
   "outputs": [],
   "source": [
    "# Installed packages\n",
    "import pandas as pd\n",
    "\n",
    "\n",
    "# Our package\n",
    "from pandas_visual_analysis import VisualAnalysis, DataSource"
   ]
  },
  {
   "cell_type": "code",
   "execution_count": 8,
   "id": "cff3878b",
   "metadata": {},
   "outputs": [],
   "source": [
    "df = pd.read_csv(\"https://raw.githubusercontent.com/ersaurabhverma/autoplotter/master/Data/data.csv\") # Reading data"
   ]
  },
  {
   "cell_type": "code",
   "execution_count": 9,
   "id": "38ceee36",
   "metadata": {},
   "outputs": [
    {
     "data": {
      "application/vnd.jupyter.widget-view+json": {
       "model_id": "96337e0547be41238e9f0e4d8e994561",
       "version_major": 2,
       "version_minor": 0
      },
      "text/plain": [
       "VBox(children=(ToggleButtons(_dom_classes=('layout-4d4d9b24ed74451194b201a658c0c806',), description='Selection…"
      ]
     },
     "metadata": {},
     "output_type": "display_data"
    }
   ],
   "source": [
    "data = DataSource(df)\n",
    "VisualAnalysis(data)"
   ]
  },
  {
   "cell_type": "code",
   "execution_count": null,
   "id": "8f021f2b",
   "metadata": {},
   "outputs": [],
   "source": []
  }
 ],
 "metadata": {
  "kernelspec": {
   "display_name": "autoeda",
   "language": "python",
   "name": "autoeda"
  },
  "language_info": {
   "codemirror_mode": {
    "name": "ipython",
    "version": 3
   },
   "file_extension": ".py",
   "mimetype": "text/x-python",
   "name": "python",
   "nbconvert_exporter": "python",
   "pygments_lexer": "ipython3",
   "version": "3.11.5"
  }
 },
 "nbformat": 4,
 "nbformat_minor": 5
}
