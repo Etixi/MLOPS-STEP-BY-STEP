{
 "cells": [
  {
   "cell_type": "code",
   "execution_count": 109,
   "id": "ae55b24a",
   "metadata": {},
   "outputs": [],
   "source": [
    "# Installed packages\n",
    "import pandas as pd\n",
    "\n",
    "\n",
    "# Our package\n",
    "from ExploriPy import EDA"
   ]
  },
  {
   "cell_type": "code",
   "execution_count": 147,
   "id": "cff3878b",
   "metadata": {},
   "outputs": [],
   "source": [
    "df = pd.read_csv('data/LoanPrediction.csv')"
   ]
  },
  {
   "cell_type": "code",
   "execution_count": 148,
   "id": "061cd3d8",
   "metadata": {},
   "outputs": [],
   "source": [
    "def get_data_summary(df):\n",
    "    '''Generate important summary information of a given\n",
    "    Pandas DataFrame'''\n",
    "    \n",
    "    print(\"========== Information globale ==========\")\n",
    "    display(df.info())\n",
    "    print(\"\\n========== Comptage des Valeurs Sans doublon ==========\\n\")\n",
    "    display(df.nunique())\n",
    "    print(\"\\n============ Statistiques Descriptives ===========================\")\n",
    "    display(df.describe())\n",
    "    print(\"\\n=======================================\")\n",
    "    display(df.head(5).style.background_gradient(cmap=\"viridis\"))"
   ]
  },
  {
   "cell_type": "code",
   "execution_count": 149,
   "id": "f28f5b32",
   "metadata": {},
   "outputs": [
    {
     "name": "stdout",
     "output_type": "stream",
     "text": [
      "========== Information globale ==========\n",
      "<class 'pandas.core.frame.DataFrame'>\n",
      "RangeIndex: 614 entries, 0 to 613\n",
      "Data columns (total 13 columns):\n",
      " #   Column             Non-Null Count  Dtype  \n",
      "---  ------             --------------  -----  \n",
      " 0   Loan_ID            614 non-null    object \n",
      " 1   Gender             601 non-null    object \n",
      " 2   Married            611 non-null    object \n",
      " 3   Dependents         599 non-null    object \n",
      " 4   Education          614 non-null    object \n",
      " 5   Self_Employed      582 non-null    object \n",
      " 6   ApplicantIncome    614 non-null    int64  \n",
      " 7   CoapplicantIncome  614 non-null    float64\n",
      " 8   LoanAmount         592 non-null    float64\n",
      " 9   Loan_Amount_Term   600 non-null    float64\n",
      " 10  Credit_History     564 non-null    float64\n",
      " 11  Property_Area      614 non-null    object \n",
      " 12  Loan_Status        614 non-null    object \n",
      "dtypes: float64(4), int64(1), object(8)\n",
      "memory usage: 62.5+ KB\n"
     ]
    },
    {
     "data": {
      "text/plain": [
       "None"
      ]
     },
     "metadata": {},
     "output_type": "display_data"
    },
    {
     "name": "stdout",
     "output_type": "stream",
     "text": [
      "\n",
      "========== Comptage des Valeurs Sans doublon ==========\n",
      "\n"
     ]
    },
    {
     "data": {
      "text/plain": [
       "Loan_ID              614\n",
       "Gender                 2\n",
       "Married                2\n",
       "Dependents             4\n",
       "Education              2\n",
       "Self_Employed          2\n",
       "ApplicantIncome      505\n",
       "CoapplicantIncome    287\n",
       "LoanAmount           203\n",
       "Loan_Amount_Term      10\n",
       "Credit_History         2\n",
       "Property_Area          3\n",
       "Loan_Status            2\n",
       "dtype: int64"
      ]
     },
     "metadata": {},
     "output_type": "display_data"
    },
    {
     "name": "stdout",
     "output_type": "stream",
     "text": [
      "\n",
      "============ Statistiques Descriptives ===========================\n"
     ]
    },
    {
     "data": {
      "text/html": [
       "<div>\n",
       "<style scoped>\n",
       "    .dataframe tbody tr th:only-of-type {\n",
       "        vertical-align: middle;\n",
       "    }\n",
       "\n",
       "    .dataframe tbody tr th {\n",
       "        vertical-align: top;\n",
       "    }\n",
       "\n",
       "    .dataframe thead th {\n",
       "        text-align: right;\n",
       "    }\n",
       "</style>\n",
       "<table border=\"1\" class=\"dataframe\">\n",
       "  <thead>\n",
       "    <tr style=\"text-align: right;\">\n",
       "      <th></th>\n",
       "      <th>ApplicantIncome</th>\n",
       "      <th>CoapplicantIncome</th>\n",
       "      <th>LoanAmount</th>\n",
       "      <th>Loan_Amount_Term</th>\n",
       "      <th>Credit_History</th>\n",
       "    </tr>\n",
       "  </thead>\n",
       "  <tbody>\n",
       "    <tr>\n",
       "      <th>count</th>\n",
       "      <td>614.000000</td>\n",
       "      <td>614.000000</td>\n",
       "      <td>592.000000</td>\n",
       "      <td>600.00000</td>\n",
       "      <td>564.000000</td>\n",
       "    </tr>\n",
       "    <tr>\n",
       "      <th>mean</th>\n",
       "      <td>5403.459283</td>\n",
       "      <td>1621.245798</td>\n",
       "      <td>146.412162</td>\n",
       "      <td>342.00000</td>\n",
       "      <td>0.842199</td>\n",
       "    </tr>\n",
       "    <tr>\n",
       "      <th>std</th>\n",
       "      <td>6109.041673</td>\n",
       "      <td>2926.248369</td>\n",
       "      <td>85.587325</td>\n",
       "      <td>65.12041</td>\n",
       "      <td>0.364878</td>\n",
       "    </tr>\n",
       "    <tr>\n",
       "      <th>min</th>\n",
       "      <td>150.000000</td>\n",
       "      <td>0.000000</td>\n",
       "      <td>9.000000</td>\n",
       "      <td>12.00000</td>\n",
       "      <td>0.000000</td>\n",
       "    </tr>\n",
       "    <tr>\n",
       "      <th>25%</th>\n",
       "      <td>2877.500000</td>\n",
       "      <td>0.000000</td>\n",
       "      <td>100.000000</td>\n",
       "      <td>360.00000</td>\n",
       "      <td>1.000000</td>\n",
       "    </tr>\n",
       "    <tr>\n",
       "      <th>50%</th>\n",
       "      <td>3812.500000</td>\n",
       "      <td>1188.500000</td>\n",
       "      <td>128.000000</td>\n",
       "      <td>360.00000</td>\n",
       "      <td>1.000000</td>\n",
       "    </tr>\n",
       "    <tr>\n",
       "      <th>75%</th>\n",
       "      <td>5795.000000</td>\n",
       "      <td>2297.250000</td>\n",
       "      <td>168.000000</td>\n",
       "      <td>360.00000</td>\n",
       "      <td>1.000000</td>\n",
       "    </tr>\n",
       "    <tr>\n",
       "      <th>max</th>\n",
       "      <td>81000.000000</td>\n",
       "      <td>41667.000000</td>\n",
       "      <td>700.000000</td>\n",
       "      <td>480.00000</td>\n",
       "      <td>1.000000</td>\n",
       "    </tr>\n",
       "  </tbody>\n",
       "</table>\n",
       "</div>"
      ],
      "text/plain": [
       "       ApplicantIncome  CoapplicantIncome  LoanAmount  Loan_Amount_Term  \\\n",
       "count       614.000000         614.000000  592.000000         600.00000   \n",
       "mean       5403.459283        1621.245798  146.412162         342.00000   \n",
       "std        6109.041673        2926.248369   85.587325          65.12041   \n",
       "min         150.000000           0.000000    9.000000          12.00000   \n",
       "25%        2877.500000           0.000000  100.000000         360.00000   \n",
       "50%        3812.500000        1188.500000  128.000000         360.00000   \n",
       "75%        5795.000000        2297.250000  168.000000         360.00000   \n",
       "max       81000.000000       41667.000000  700.000000         480.00000   \n",
       "\n",
       "       Credit_History  \n",
       "count      564.000000  \n",
       "mean         0.842199  \n",
       "std          0.364878  \n",
       "min          0.000000  \n",
       "25%          1.000000  \n",
       "50%          1.000000  \n",
       "75%          1.000000  \n",
       "max          1.000000  "
      ]
     },
     "metadata": {},
     "output_type": "display_data"
    },
    {
     "name": "stdout",
     "output_type": "stream",
     "text": [
      "\n",
      "=======================================\n"
     ]
    },
    {
     "data": {
      "text/html": [
       "<style type=\"text/css\">\n",
       "#T_3256d_row0_col6 {\n",
       "  background-color: #e2e418;\n",
       "  color: #000000;\n",
       "}\n",
       "#T_3256d_row0_col7, #T_3256d_row0_col9, #T_3256d_row0_col10, #T_3256d_row1_col9, #T_3256d_row1_col10, #T_3256d_row2_col7, #T_3256d_row2_col8, #T_3256d_row2_col9, #T_3256d_row2_col10, #T_3256d_row3_col6, #T_3256d_row3_col9, #T_3256d_row3_col10, #T_3256d_row4_col7, #T_3256d_row4_col9, #T_3256d_row4_col10 {\n",
       "  background-color: #440154;\n",
       "  color: #f1f1f1;\n",
       "}\n",
       "#T_3256d_row0_col8 {\n",
       "  background-color: #000000;\n",
       "  color: #f1f1f1;\n",
       "}\n",
       "#T_3256d_row1_col6 {\n",
       "  background-color: #20a486;\n",
       "  color: #f1f1f1;\n",
       "}\n",
       "#T_3256d_row1_col7 {\n",
       "  background-color: #2cb17e;\n",
       "  color: #f1f1f1;\n",
       "}\n",
       "#T_3256d_row1_col8 {\n",
       "  background-color: #8bd646;\n",
       "  color: #000000;\n",
       "}\n",
       "#T_3256d_row2_col6 {\n",
       "  background-color: #472c7a;\n",
       "  color: #f1f1f1;\n",
       "}\n",
       "#T_3256d_row3_col7, #T_3256d_row4_col6, #T_3256d_row4_col8 {\n",
       "  background-color: #fde725;\n",
       "  color: #000000;\n",
       "}\n",
       "#T_3256d_row3_col8 {\n",
       "  background-color: #4ec36b;\n",
       "  color: #000000;\n",
       "}\n",
       "</style>\n",
       "<table id=\"T_3256d\">\n",
       "  <thead>\n",
       "    <tr>\n",
       "      <th class=\"blank level0\" >&nbsp;</th>\n",
       "      <th id=\"T_3256d_level0_col0\" class=\"col_heading level0 col0\" >Loan_ID</th>\n",
       "      <th id=\"T_3256d_level0_col1\" class=\"col_heading level0 col1\" >Gender</th>\n",
       "      <th id=\"T_3256d_level0_col2\" class=\"col_heading level0 col2\" >Married</th>\n",
       "      <th id=\"T_3256d_level0_col3\" class=\"col_heading level0 col3\" >Dependents</th>\n",
       "      <th id=\"T_3256d_level0_col4\" class=\"col_heading level0 col4\" >Education</th>\n",
       "      <th id=\"T_3256d_level0_col5\" class=\"col_heading level0 col5\" >Self_Employed</th>\n",
       "      <th id=\"T_3256d_level0_col6\" class=\"col_heading level0 col6\" >ApplicantIncome</th>\n",
       "      <th id=\"T_3256d_level0_col7\" class=\"col_heading level0 col7\" >CoapplicantIncome</th>\n",
       "      <th id=\"T_3256d_level0_col8\" class=\"col_heading level0 col8\" >LoanAmount</th>\n",
       "      <th id=\"T_3256d_level0_col9\" class=\"col_heading level0 col9\" >Loan_Amount_Term</th>\n",
       "      <th id=\"T_3256d_level0_col10\" class=\"col_heading level0 col10\" >Credit_History</th>\n",
       "      <th id=\"T_3256d_level0_col11\" class=\"col_heading level0 col11\" >Property_Area</th>\n",
       "      <th id=\"T_3256d_level0_col12\" class=\"col_heading level0 col12\" >Loan_Status</th>\n",
       "    </tr>\n",
       "  </thead>\n",
       "  <tbody>\n",
       "    <tr>\n",
       "      <th id=\"T_3256d_level0_row0\" class=\"row_heading level0 row0\" >0</th>\n",
       "      <td id=\"T_3256d_row0_col0\" class=\"data row0 col0\" >LP001002</td>\n",
       "      <td id=\"T_3256d_row0_col1\" class=\"data row0 col1\" >Male</td>\n",
       "      <td id=\"T_3256d_row0_col2\" class=\"data row0 col2\" >No</td>\n",
       "      <td id=\"T_3256d_row0_col3\" class=\"data row0 col3\" >0</td>\n",
       "      <td id=\"T_3256d_row0_col4\" class=\"data row0 col4\" >Graduate</td>\n",
       "      <td id=\"T_3256d_row0_col5\" class=\"data row0 col5\" >No</td>\n",
       "      <td id=\"T_3256d_row0_col6\" class=\"data row0 col6\" >5849</td>\n",
       "      <td id=\"T_3256d_row0_col7\" class=\"data row0 col7\" >0.000000</td>\n",
       "      <td id=\"T_3256d_row0_col8\" class=\"data row0 col8\" >nan</td>\n",
       "      <td id=\"T_3256d_row0_col9\" class=\"data row0 col9\" >360.000000</td>\n",
       "      <td id=\"T_3256d_row0_col10\" class=\"data row0 col10\" >1.000000</td>\n",
       "      <td id=\"T_3256d_row0_col11\" class=\"data row0 col11\" >Urban</td>\n",
       "      <td id=\"T_3256d_row0_col12\" class=\"data row0 col12\" >Y</td>\n",
       "    </tr>\n",
       "    <tr>\n",
       "      <th id=\"T_3256d_level0_row1\" class=\"row_heading level0 row1\" >1</th>\n",
       "      <td id=\"T_3256d_row1_col0\" class=\"data row1 col0\" >LP001003</td>\n",
       "      <td id=\"T_3256d_row1_col1\" class=\"data row1 col1\" >Male</td>\n",
       "      <td id=\"T_3256d_row1_col2\" class=\"data row1 col2\" >Yes</td>\n",
       "      <td id=\"T_3256d_row1_col3\" class=\"data row1 col3\" >1</td>\n",
       "      <td id=\"T_3256d_row1_col4\" class=\"data row1 col4\" >Graduate</td>\n",
       "      <td id=\"T_3256d_row1_col5\" class=\"data row1 col5\" >No</td>\n",
       "      <td id=\"T_3256d_row1_col6\" class=\"data row1 col6\" >4583</td>\n",
       "      <td id=\"T_3256d_row1_col7\" class=\"data row1 col7\" >1508.000000</td>\n",
       "      <td id=\"T_3256d_row1_col8\" class=\"data row1 col8\" >128.000000</td>\n",
       "      <td id=\"T_3256d_row1_col9\" class=\"data row1 col9\" >360.000000</td>\n",
       "      <td id=\"T_3256d_row1_col10\" class=\"data row1 col10\" >1.000000</td>\n",
       "      <td id=\"T_3256d_row1_col11\" class=\"data row1 col11\" >Rural</td>\n",
       "      <td id=\"T_3256d_row1_col12\" class=\"data row1 col12\" >N</td>\n",
       "    </tr>\n",
       "    <tr>\n",
       "      <th id=\"T_3256d_level0_row2\" class=\"row_heading level0 row2\" >2</th>\n",
       "      <td id=\"T_3256d_row2_col0\" class=\"data row2 col0\" >LP001005</td>\n",
       "      <td id=\"T_3256d_row2_col1\" class=\"data row2 col1\" >Male</td>\n",
       "      <td id=\"T_3256d_row2_col2\" class=\"data row2 col2\" >Yes</td>\n",
       "      <td id=\"T_3256d_row2_col3\" class=\"data row2 col3\" >0</td>\n",
       "      <td id=\"T_3256d_row2_col4\" class=\"data row2 col4\" >Graduate</td>\n",
       "      <td id=\"T_3256d_row2_col5\" class=\"data row2 col5\" >Yes</td>\n",
       "      <td id=\"T_3256d_row2_col6\" class=\"data row2 col6\" >3000</td>\n",
       "      <td id=\"T_3256d_row2_col7\" class=\"data row2 col7\" >0.000000</td>\n",
       "      <td id=\"T_3256d_row2_col8\" class=\"data row2 col8\" >66.000000</td>\n",
       "      <td id=\"T_3256d_row2_col9\" class=\"data row2 col9\" >360.000000</td>\n",
       "      <td id=\"T_3256d_row2_col10\" class=\"data row2 col10\" >1.000000</td>\n",
       "      <td id=\"T_3256d_row2_col11\" class=\"data row2 col11\" >Urban</td>\n",
       "      <td id=\"T_3256d_row2_col12\" class=\"data row2 col12\" >Y</td>\n",
       "    </tr>\n",
       "    <tr>\n",
       "      <th id=\"T_3256d_level0_row3\" class=\"row_heading level0 row3\" >3</th>\n",
       "      <td id=\"T_3256d_row3_col0\" class=\"data row3 col0\" >LP001006</td>\n",
       "      <td id=\"T_3256d_row3_col1\" class=\"data row3 col1\" >Male</td>\n",
       "      <td id=\"T_3256d_row3_col2\" class=\"data row3 col2\" >Yes</td>\n",
       "      <td id=\"T_3256d_row3_col3\" class=\"data row3 col3\" >0</td>\n",
       "      <td id=\"T_3256d_row3_col4\" class=\"data row3 col4\" >Not Graduate</td>\n",
       "      <td id=\"T_3256d_row3_col5\" class=\"data row3 col5\" >No</td>\n",
       "      <td id=\"T_3256d_row3_col6\" class=\"data row3 col6\" >2583</td>\n",
       "      <td id=\"T_3256d_row3_col7\" class=\"data row3 col7\" >2358.000000</td>\n",
       "      <td id=\"T_3256d_row3_col8\" class=\"data row3 col8\" >120.000000</td>\n",
       "      <td id=\"T_3256d_row3_col9\" class=\"data row3 col9\" >360.000000</td>\n",
       "      <td id=\"T_3256d_row3_col10\" class=\"data row3 col10\" >1.000000</td>\n",
       "      <td id=\"T_3256d_row3_col11\" class=\"data row3 col11\" >Urban</td>\n",
       "      <td id=\"T_3256d_row3_col12\" class=\"data row3 col12\" >Y</td>\n",
       "    </tr>\n",
       "    <tr>\n",
       "      <th id=\"T_3256d_level0_row4\" class=\"row_heading level0 row4\" >4</th>\n",
       "      <td id=\"T_3256d_row4_col0\" class=\"data row4 col0\" >LP001008</td>\n",
       "      <td id=\"T_3256d_row4_col1\" class=\"data row4 col1\" >Male</td>\n",
       "      <td id=\"T_3256d_row4_col2\" class=\"data row4 col2\" >No</td>\n",
       "      <td id=\"T_3256d_row4_col3\" class=\"data row4 col3\" >0</td>\n",
       "      <td id=\"T_3256d_row4_col4\" class=\"data row4 col4\" >Graduate</td>\n",
       "      <td id=\"T_3256d_row4_col5\" class=\"data row4 col5\" >No</td>\n",
       "      <td id=\"T_3256d_row4_col6\" class=\"data row4 col6\" >6000</td>\n",
       "      <td id=\"T_3256d_row4_col7\" class=\"data row4 col7\" >0.000000</td>\n",
       "      <td id=\"T_3256d_row4_col8\" class=\"data row4 col8\" >141.000000</td>\n",
       "      <td id=\"T_3256d_row4_col9\" class=\"data row4 col9\" >360.000000</td>\n",
       "      <td id=\"T_3256d_row4_col10\" class=\"data row4 col10\" >1.000000</td>\n",
       "      <td id=\"T_3256d_row4_col11\" class=\"data row4 col11\" >Urban</td>\n",
       "      <td id=\"T_3256d_row4_col12\" class=\"data row4 col12\" >Y</td>\n",
       "    </tr>\n",
       "  </tbody>\n",
       "</table>\n"
      ],
      "text/plain": [
       "<pandas.io.formats.style.Styler at 0x2151d4d6090>"
      ]
     },
     "metadata": {},
     "output_type": "display_data"
    }
   ],
   "source": [
    "get_data_summary(df)"
   ]
  },
  {
   "cell_type": "code",
   "execution_count": 150,
   "id": "f75bbc97",
   "metadata": {},
   "outputs": [],
   "source": [
    "def missing_value(df):\n",
    "  d1 = df.isna().sum().to_frame()\n",
    "  d2 = (df.isna().sum() / df.shape[0]).to_frame()\n",
    "  d3 = df.dtypes.to_frame()\n",
    "  df_missing = pd.concat([d1,d2,d3],axis = 1)\n",
    "  df_missing.columns = ['missing value','% of missing value','dtypes']\n",
    "  print('='*100)\n",
    "  if (df_missing.iloc[:,0].any() !=0):\n",
    "      print(\"Notre dataframe comporte \" + str(df.shape[1]) +\n",
    "      \" colonnes. Et il y a \" + str(df_missing.shape[1]) + \" colonnes qui ont des valeurs manquantes.\")\n",
    "  else:\n",
    "      print(\"Notre dataframe comporte \" + str(df.shape[1]) +\n",
    "      \" colonnes. Et il n'y a aucune colonne qui à des valeurs manquantes.\")\n",
    "  print('-'*100)\n",
    "  print(df_missing)"
   ]
  },
  {
   "cell_type": "code",
   "execution_count": 151,
   "id": "bfbe221b",
   "metadata": {},
   "outputs": [
    {
     "name": "stdout",
     "output_type": "stream",
     "text": [
      "====================================================================================================\n",
      "Notre dataframe comporte 13 colonnes. Et il y a 3 colonnes qui ont des valeurs manquantes.\n",
      "----------------------------------------------------------------------------------------------------\n",
      "                   missing value  % of missing value   dtypes\n",
      "Loan_ID                        0            0.000000   object\n",
      "Gender                        13            0.021173   object\n",
      "Married                        3            0.004886   object\n",
      "Dependents                    15            0.024430   object\n",
      "Education                      0            0.000000   object\n",
      "Self_Employed                 32            0.052117   object\n",
      "ApplicantIncome                0            0.000000    int64\n",
      "CoapplicantIncome              0            0.000000  float64\n",
      "LoanAmount                    22            0.035831  float64\n",
      "Loan_Amount_Term              14            0.022801  float64\n",
      "Credit_History                50            0.081433  float64\n",
      "Property_Area                  0            0.000000   object\n",
      "Loan_Status                    0            0.000000   object\n"
     ]
    }
   ],
   "source": [
    "missing_value(df)"
   ]
  },
  {
   "cell_type": "code",
   "execution_count": 152,
   "id": "9c1f30d3",
   "metadata": {},
   "outputs": [],
   "source": [
    "df = df.drop_duplicates(inplace=False)"
   ]
  },
  {
   "cell_type": "code",
   "execution_count": 156,
   "id": "e24f3bb3",
   "metadata": {},
   "outputs": [],
   "source": [
    "cat = ['Property_Area', 'Loan_Status','Married']"
   ]
  },
  {
   "cell_type": "code",
   "execution_count": 157,
   "id": "f59804c5",
   "metadata": {},
   "outputs": [
    {
     "name": "stdout",
     "output_type": "stream",
     "text": [
      "Converting Categorical Features to String...\n"
     ]
    },
    {
     "name": "stderr",
     "output_type": "stream",
     "text": [
      "100%|████████████████████████████████████████████████████████████████████████████████████████████| 3/3 [00:00<?, ?it/s]\n"
     ]
    },
    {
     "name": "stdout",
     "output_type": "stream",
     "text": [
      "Initiating Target Specific Analysis...\n",
      "Generating Correlation Heatmap...\n",
      "Calculating Target Percentage...\n",
      "Performing ChiSquare Test of Independence...\n"
     ]
    },
    {
     "name": "stderr",
     "output_type": "stream",
     "text": [
      "100%|████████████████████████████████████████████████████████████████████████████████████| 3/3 [00:00<00:00, 73.67it/s]\n"
     ]
    },
    {
     "name": "stdout",
     "output_type": "stream",
     "text": [
      "Calculate the Target Distributions...\n"
     ]
    },
    {
     "name": "stderr",
     "output_type": "stream",
     "text": [
      "100%|████████████████████████████████████████████████████████████████████████████████████| 3/3 [00:00<00:00, 28.54it/s]\n"
     ]
    },
    {
     "name": "stdout",
     "output_type": "stream",
     "text": [
      "Generating Distribution Charts...\n"
     ]
    },
    {
     "name": "stderr",
     "output_type": "stream",
     "text": [
      "  0%|                                                                                            | 0/5 [00:00<?, ?it/s]\n"
     ]
    },
    {
     "ename": "IndexError",
     "evalue": "list index out of range",
     "output_type": "error",
     "traceback": [
      "\u001b[1;31m---------------------------------------------------------------------------\u001b[0m",
      "\u001b[1;31mIndexError\u001b[0m                                Traceback (most recent call last)",
      "Cell \u001b[1;32mIn[157], line 2\u001b[0m\n\u001b[0;32m      1\u001b[0m eda \u001b[38;5;241m=\u001b[39m EDA(df, cat,  title\u001b[38;5;241m=\u001b[39m\u001b[38;5;124m'\u001b[39m\u001b[38;5;124mExploratory Data Analysis for Big Mart Sales III - Based on Item_Outlet_Sales\u001b[39m\u001b[38;5;124m'\u001b[39m)\n\u001b[1;32m----> 2\u001b[0m \u001b[43meda\u001b[49m\u001b[38;5;241;43m.\u001b[39;49m\u001b[43mTargetAnalysis\u001b[49m\u001b[43m(\u001b[49m\u001b[38;5;124;43m'\u001b[39;49m\u001b[38;5;124;43mMarried\u001b[39;49m\u001b[38;5;124;43m'\u001b[39;49m\u001b[43m)\u001b[49m \u001b[38;5;66;03m# For Target Specific Analysis\u001b[39;00m\n",
      "File \u001b[1;32m~\\anaconda3\\envs\\autoeda\\Lib\\site-packages\\ExploriPy\\EDA.py:102\u001b[0m, in \u001b[0;36mEDA.TargetAnalysis\u001b[1;34m(self, target)\u001b[0m\n\u001b[0;32m    100\u001b[0m end \u001b[38;5;241m=\u001b[39m time\u001b[38;5;241m.\u001b[39mtime()\n\u001b[0;32m    101\u001b[0m \u001b[38;5;66;03m# print(\"Time to initialize TargetAnalysis = \",end-start)\u001b[39;00m\n\u001b[1;32m--> 102\u001b[0m \u001b[43mtargetAnalysis\u001b[49m\u001b[38;5;241;43m.\u001b[39;49m\u001b[43mTargetSpecificAnalysis\u001b[49m\u001b[43m(\u001b[49m\u001b[43m)\u001b[49m\n\u001b[0;32m    105\u001b[0m \u001b[38;5;28;01mreturn\u001b[39;00m\n",
      "File \u001b[1;32m~\\anaconda3\\envs\\autoeda\\Lib\\site-packages\\ExploriPy\\TargetAnalysisCategorical.py:90\u001b[0m, in \u001b[0;36mTargetAnalysisCategorical.TargetSpecificAnalysis\u001b[1;34m(self)\u001b[0m\n\u001b[0;32m     77\u001b[0m CorrList, ColumnNames \u001b[38;5;241m=\u001b[39m \u001b[38;5;28mself\u001b[39m\u001b[38;5;241m.\u001b[39mCorrList()\n\u001b[0;32m     78\u001b[0m \u001b[38;5;28;01mif\u001b[39;00m \u001b[38;5;28mself\u001b[39m\u001b[38;5;241m.\u001b[39mtarget \u001b[38;5;129;01min\u001b[39;00m \u001b[38;5;28mself\u001b[39m\u001b[38;5;241m.\u001b[39mCategoricalFeatures:\n\u001b[0;32m     79\u001b[0m \thtml \u001b[38;5;241m=\u001b[39m template\u001b[38;5;241m.\u001b[39mrender(title \u001b[38;5;241m=\u001b[39m \u001b[38;5;28mself\u001b[39m\u001b[38;5;241m.\u001b[39mtitle\n\u001b[0;32m     80\u001b[0m \t\t\t\t\t\t,ListOfFields \u001b[38;5;241m=\u001b[39m \u001b[38;5;28mself\u001b[39m\u001b[38;5;241m.\u001b[39mListOfFields()\n\u001b[0;32m     81\u001b[0m \t\t\t\t\t\t,FeatureTypes \u001b[38;5;241m=\u001b[39m \u001b[38;5;28mself\u001b[39m\u001b[38;5;241m.\u001b[39mCategoricalVsContinuous()\n\u001b[0;32m     82\u001b[0m \t\t\t\t\t\t,number_of_records \u001b[38;5;241m=\u001b[39m \u001b[38;5;28mself\u001b[39m\u001b[38;5;241m.\u001b[39mdf\u001b[38;5;241m.\u001b[39mshape[\u001b[38;5;241m0\u001b[39m]\n\u001b[0;32m     83\u001b[0m \t\t\t\t\t\t,number_of_nulls \u001b[38;5;241m=\u001b[39m \u001b[38;5;28mself\u001b[39m\u001b[38;5;241m.\u001b[39mdf[\u001b[38;5;28mself\u001b[39m\u001b[38;5;241m.\u001b[39mtarget]\u001b[38;5;241m.\u001b[39misnull()\u001b[38;5;241m.\u001b[39msum()\n\u001b[0;32m     84\u001b[0m \t\t\t\t\t\t,percentage_of_nulls \u001b[38;5;241m=\u001b[39m \u001b[38;5;28mround\u001b[39m((\u001b[38;5;28mself\u001b[39m\u001b[38;5;241m.\u001b[39mdf[\u001b[38;5;28mself\u001b[39m\u001b[38;5;241m.\u001b[39mtarget]\u001b[38;5;241m.\u001b[39misnull()\u001b[38;5;241m.\u001b[39msum()\u001b[38;5;241m*\u001b[39m\u001b[38;5;241m100\u001b[39m) \u001b[38;5;241m/\u001b[39m \u001b[38;5;28mself\u001b[39m\u001b[38;5;241m.\u001b[39mdf\u001b[38;5;241m.\u001b[39mshape[\u001b[38;5;241m0\u001b[39m],\u001b[38;5;241m2\u001b[39m)\n\u001b[0;32m     85\u001b[0m \t\t\t\t\t\t,TargetPercentage \u001b[38;5;241m=\u001b[39m \u001b[38;5;28mself\u001b[39m\u001b[38;5;241m.\u001b[39mTargetPercentage()\t\n\u001b[0;32m     86\u001b[0m \t\t\t\t\t\t,target \u001b[38;5;241m=\u001b[39m \u001b[38;5;28mself\u001b[39m\u001b[38;5;241m.\u001b[39mtarget\n\u001b[0;32m     87\u001b[0m \t\t\t\t\t\t,ChiSquare \u001b[38;5;241m=\u001b[39m \u001b[38;5;28mself\u001b[39m\u001b[38;5;241m.\u001b[39mChiSquareTest()\n\u001b[0;32m     88\u001b[0m \t\t\t\t\t\t,target_distribution_list \u001b[38;5;241m=\u001b[39m \u001b[38;5;28mself\u001b[39m\u001b[38;5;241m.\u001b[39mTargetDistributions()\n\u001b[0;32m     89\u001b[0m \t\t\t\t\t\t,Anova_df \u001b[38;5;241m=\u001b[39m \u001b[38;5;28mself\u001b[39m\u001b[38;5;241m.\u001b[39mAnova()\n\u001b[1;32m---> 90\u001b[0m \t\t\t\t\t\t,ContinuousFeaturesHistChart_df \u001b[38;5;241m=\u001b[39m \u001b[38;5;28;43mself\u001b[39;49m\u001b[38;5;241;43m.\u001b[39;49m\u001b[43mContinuousHistChart\u001b[49m\u001b[43m(\u001b[49m\u001b[43m)\u001b[49m\n\u001b[0;32m     91\u001b[0m \t\t\t\t\t\t,NullValue \u001b[38;5;241m=\u001b[39m pd\u001b[38;5;241m.\u001b[39mDataFrame(\u001b[38;5;28mround\u001b[39m((\u001b[38;5;28mself\u001b[39m\u001b[38;5;241m.\u001b[39mdf\u001b[38;5;241m.\u001b[39misnull()\u001b[38;5;241m.\u001b[39msum()\u001b[38;5;241m/\u001b[39m\u001b[38;5;28mself\u001b[39m\u001b[38;5;241m.\u001b[39mdf\u001b[38;5;241m.\u001b[39mshape[\u001b[38;5;241m0\u001b[39m])\u001b[38;5;241m*\u001b[39m\u001b[38;5;241m100\u001b[39m))\u001b[38;5;241m.\u001b[39mreset_index()\u001b[38;5;241m.\u001b[39mrename(columns\u001b[38;5;241m=\u001b[39m{\u001b[38;5;124m'\u001b[39m\u001b[38;5;124mindex\u001b[39m\u001b[38;5;124m'\u001b[39m: \u001b[38;5;124m'\u001b[39m\u001b[38;5;124mFeature\u001b[39m\u001b[38;5;124m'\u001b[39m,\u001b[38;5;241m0\u001b[39m:\u001b[38;5;124m'\u001b[39m\u001b[38;5;124mNullPercentage\u001b[39m\u001b[38;5;124m'\u001b[39m})\n\u001b[0;32m     92\u001b[0m \t\t\t\t\t\t,CorrList \u001b[38;5;241m=\u001b[39m CorrList\n\u001b[0;32m     93\u001b[0m \t\t\t\t\t\t,ColumnNames \u001b[38;5;241m=\u001b[39m ColumnNames\n\u001b[0;32m     94\u001b[0m \t\t\t\t\t\t,CategoricalFeatures \u001b[38;5;241m=\u001b[39m \u001b[38;5;28mself\u001b[39m\u001b[38;5;241m.\u001b[39mCategoricalFeatures\n\u001b[0;32m     95\u001b[0m \t\t\t\t\t\t,OtherFeatures \u001b[38;5;241m=\u001b[39m \u001b[38;5;28mself\u001b[39m\u001b[38;5;241m.\u001b[39mOtherFeatures\n\u001b[0;32m     96\u001b[0m \t\t\t\t\t\t,ContinuousFeatures \u001b[38;5;241m=\u001b[39m \u001b[38;5;28mself\u001b[39m\u001b[38;5;241m.\u001b[39mContinuousFeatures\n\u001b[0;32m     97\u001b[0m \t\t\t\t   \n\u001b[0;32m     98\u001b[0m \t\t\t\t   )\n\u001b[0;32m     99\u001b[0m \u001b[38;5;28;01melif\u001b[39;00m \u001b[38;5;28mself\u001b[39m\u001b[38;5;241m.\u001b[39mtarget \u001b[38;5;129;01min\u001b[39;00m \u001b[38;5;28mself\u001b[39m\u001b[38;5;241m.\u001b[39mContinuousFeatures:\n\u001b[0;32m    100\u001b[0m \thtml \u001b[38;5;241m=\u001b[39m template\u001b[38;5;241m.\u001b[39mrender(title \u001b[38;5;241m=\u001b[39m \u001b[38;5;28mself\u001b[39m\u001b[38;5;241m.\u001b[39mtitle)\n",
      "File \u001b[1;32m~\\anaconda3\\envs\\autoeda\\Lib\\site-packages\\ExploriPy\\TargetAnalysisCategorical.py:343\u001b[0m, in \u001b[0;36mTargetAnalysisCategorical.ContinuousHistChart\u001b[1;34m(self)\u001b[0m\n\u001b[0;32m    341\u001b[0m \tedges,edgesValues, hist, histValues, pdf, color1, color2 \u001b[38;5;241m=\u001b[39m \u001b[38;5;28mself\u001b[39m\u001b[38;5;241m.\u001b[39mHistChart(\u001b[38;5;28mlist\u001b[39m(\u001b[38;5;28mself\u001b[39m\u001b[38;5;241m.\u001b[39mdf[column]\u001b[38;5;241m.\u001b[39mdropna()))\n\u001b[0;32m    342\u001b[0m \thist_list\u001b[38;5;241m.\u001b[39mappend(\u001b[38;5;28mdict\u001b[39m(category \u001b[38;5;241m=\u001b[39m column, edges \u001b[38;5;241m=\u001b[39m edges,edgesValues \u001b[38;5;241m=\u001b[39m edgesValues, hist \u001b[38;5;241m=\u001b[39m hist, histValues \u001b[38;5;241m=\u001b[39m histValues, pdf \u001b[38;5;241m=\u001b[39m pdf, color1 \u001b[38;5;241m=\u001b[39m color1, color2 \u001b[38;5;241m=\u001b[39m color2))\n\u001b[1;32m--> 343\u001b[0m \tboxPlotFileName \u001b[38;5;241m=\u001b[39m \u001b[38;5;28;43mself\u001b[39;49m\u001b[38;5;241;43m.\u001b[39;49m\u001b[43mBoxPlot\u001b[49m\u001b[43m(\u001b[49m\u001b[43mcolumn\u001b[49m\u001b[43m)\u001b[49m\n\u001b[0;32m    345\u001b[0m \tContinuousFeaturesHistChart_list\u001b[38;5;241m.\u001b[39mappend(\u001b[38;5;28mdict\u001b[39m(ContinuousFeature\u001b[38;5;241m=\u001b[39mcolumn,\n\u001b[0;32m    346\u001b[0m \t\t\t\t\t\t\t\t\t\t\t\t\thist_list\u001b[38;5;241m=\u001b[39mhist_list,\n\u001b[0;32m    347\u001b[0m \t\t\t\t\t\t\t\t\t\t\t\t\tCount \u001b[38;5;241m=\u001b[39m g1\u001b[38;5;241m.\u001b[39mloc[\u001b[38;5;124m'\u001b[39m\u001b[38;5;124mcount\u001b[39m\u001b[38;5;124m'\u001b[39m][\u001b[38;5;241m0\u001b[39m],\n\u001b[1;32m   (...)\u001b[0m\n\u001b[0;32m    361\u001b[0m \t\t\t\t\t\t\t\t\t\t\t\t\tboxPlotFileName \u001b[38;5;241m=\u001b[39m boxPlotFileName\n\u001b[0;32m    362\u001b[0m \t\t\t\t\t\t\t\t\t\t\t\t\t))\n\u001b[0;32m    364\u001b[0m \u001b[38;5;28;01mreturn\u001b[39;00m pd\u001b[38;5;241m.\u001b[39mDataFrame(ContinuousFeaturesHistChart_list)\n",
      "File \u001b[1;32m~\\anaconda3\\envs\\autoeda\\Lib\\site-packages\\ExploriPy\\TargetAnalysisCategorical.py:369\u001b[0m, in \u001b[0;36mTargetAnalysisCategorical.BoxPlot\u001b[1;34m(self, feature)\u001b[0m\n\u001b[0;32m    367\u001b[0m fig, ax \u001b[38;5;241m=\u001b[39m plt\u001b[38;5;241m.\u001b[39msubplots()\n\u001b[0;32m    368\u001b[0m ax \u001b[38;5;241m=\u001b[39m sns\u001b[38;5;241m.\u001b[39mboxplot(y\u001b[38;5;241m=\u001b[39m\u001b[38;5;28mself\u001b[39m\u001b[38;5;241m.\u001b[39mdf[feature], ax\u001b[38;5;241m=\u001b[39max)\n\u001b[1;32m--> 369\u001b[0m box \u001b[38;5;241m=\u001b[39m \u001b[43max\u001b[49m\u001b[38;5;241;43m.\u001b[39;49m\u001b[43martists\u001b[49m\u001b[43m[\u001b[49m\u001b[38;5;241;43m0\u001b[39;49m\u001b[43m]\u001b[49m\n\u001b[0;32m    370\u001b[0m indices \u001b[38;5;241m=\u001b[39m random\u001b[38;5;241m.\u001b[39msample(\u001b[38;5;28mrange\u001b[39m(\u001b[38;5;28mlen\u001b[39m(\u001b[38;5;28mself\u001b[39m\u001b[38;5;241m.\u001b[39mSelectedColors)), \u001b[38;5;241m2\u001b[39m)\n\u001b[0;32m    371\u001b[0m colors\u001b[38;5;241m=\u001b[39m[\u001b[38;5;28mself\u001b[39m\u001b[38;5;241m.\u001b[39mSelectedColors[i] \u001b[38;5;28;01mfor\u001b[39;00m i \u001b[38;5;129;01min\u001b[39;00m \u001b[38;5;28msorted\u001b[39m(indices)]\n",
      "File \u001b[1;32m~\\anaconda3\\envs\\autoeda\\Lib\\site-packages\\matplotlib\\axes\\_base.py:1457\u001b[0m, in \u001b[0;36m_AxesBase.ArtistList.__getitem__\u001b[1;34m(self, key)\u001b[0m\n\u001b[0;32m   1456\u001b[0m \u001b[38;5;28;01mdef\u001b[39;00m \u001b[38;5;21m__getitem__\u001b[39m(\u001b[38;5;28mself\u001b[39m, key):\n\u001b[1;32m-> 1457\u001b[0m     \u001b[38;5;28;01mreturn\u001b[39;00m \u001b[43m[\u001b[49m\u001b[43martist\u001b[49m\n\u001b[0;32m   1458\u001b[0m \u001b[43m            \u001b[49m\u001b[38;5;28;43;01mfor\u001b[39;49;00m\u001b[43m \u001b[49m\u001b[43martist\u001b[49m\u001b[43m \u001b[49m\u001b[38;5;129;43;01min\u001b[39;49;00m\u001b[43m \u001b[49m\u001b[38;5;28;43mself\u001b[39;49m\u001b[38;5;241;43m.\u001b[39;49m\u001b[43m_axes\u001b[49m\u001b[38;5;241;43m.\u001b[39;49m\u001b[43m_children\u001b[49m\n\u001b[0;32m   1459\u001b[0m \u001b[43m            \u001b[49m\u001b[38;5;28;43;01mif\u001b[39;49;00m\u001b[43m \u001b[49m\u001b[38;5;28;43mself\u001b[39;49m\u001b[38;5;241;43m.\u001b[39;49m\u001b[43m_type_check\u001b[49m\u001b[43m(\u001b[49m\u001b[43martist\u001b[49m\u001b[43m)\u001b[49m\u001b[43m]\u001b[49m\u001b[43m[\u001b[49m\u001b[43mkey\u001b[49m\u001b[43m]\u001b[49m\n",
      "\u001b[1;31mIndexError\u001b[0m: list index out of range"
     ]
    },
    {
     "data": {
      "image/png": "[encoded data removed]",
      "text/plain": [
       "<Figure size 640x480 with 1 Axes>"
      ]
     },
     "metadata": {},
     "output_type": "display_data"
    }
   ],
   "source": [
    "eda = EDA(df, cat,  title='Exploratory Data Analysis for Big Mart Sales III - Based on Item_Outlet_Sales')\n",
    "eda.TargetAnalysis('Married') # For Target Specific Analysis"
   ]
  },
  {
   "cell_type": "code",
   "execution_count": null,
   "id": "dd143b4c",
   "metadata": {},
   "outputs": [],
   "source": []
  }
 ],
 "metadata": {
  "kernelspec": {
   "display_name": "autoeda",
   "language": "python",
   "name": "autoeda"
  },
  "language_info": {
   "codemirror_mode": {
    "name": "ipython",
    "version": 3
   },
   "file_extension": ".py",
   "mimetype": "text/x-python",
   "name": "python",
   "nbconvert_exporter": "python",
   "pygments_lexer": "ipython3",
   "version": "3.11.5"
  }
 },
 "nbformat": 4,
 "nbformat_minor": 5
}
