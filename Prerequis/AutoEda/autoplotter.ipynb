{
 "cells": [
  {
   "cell_type": "code",
   "execution_count": null,
   "id": "ae55b24a",
   "metadata": {},
   "outputs": [],
   "source": [
    "# Installed packages\n",
    "import pandas as pd\n",
    "\n",
    "\n",
    "# Our package\n",
    "from autoplotter import*"
   ]
  },
  {
   "cell_type": "code",
   "execution_count": null,
   "id": "cff3878b",
   "metadata": {},
   "outputs": [],
   "source": [
    "df = pd.read_csv(\"https://raw.githubusercontent.com/ersaurabhverma/autoplotter/master/Data/data.csv\") # Reading data\n",
    "\n",
    "run_app(df,mode = \"inline\", host=\"127.0.0.1\", port=5000) # Calling the autoplotter.run_app in inline mode"
   ]
  },
  {
   "cell_type": "code",
   "execution_count": 4,
   "id": "38ceee36",
   "metadata": {},
   "outputs": [],
   "source": [
    "run_app(df,mode = \"external\", host=\"127.0.0.1\", port=5000) # Calling the autoplotter.run_app in external mode"
   ]
  },
  {
   "cell_type": "code",
   "execution_count": null,
   "id": "8f021f2b",
   "metadata": {},
   "outputs": [],
   "source": []
  }
 ],
 "metadata": {
  "kernelspec": {
   "display_name": "autoeda",
   "language": "python",
   "name": "autoeda"
  },
  "language_info": {
   "codemirror_mode": {
    "name": "ipython",
    "version": 3
   },
   "file_extension": ".py",
   "mimetype": "text/x-python",
   "name": "python",
   "nbconvert_exporter": "python",
   "pygments_lexer": "ipython3",
   "version": "3.11.5"
  }
 },
 "nbformat": 4,
 "nbformat_minor": 5
}
