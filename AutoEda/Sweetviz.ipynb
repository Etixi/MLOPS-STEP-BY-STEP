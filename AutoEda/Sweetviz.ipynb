{
 "cells": [
  {
   "cell_type": "code",
   "execution_count": 2,
   "id": "2f718873",
   "metadata": {},
   "outputs": [],
   "source": [
    "# Installed packages\n",
    "import pandas as pd\n",
    "\n",
    "# Our package\n",
    "import comet_ml\n",
    "import sweetviz\n",
    "#API_KEY = glvt66qSHTLVs7zAc18kk4uGs"
   ]
  },
  {
   "cell_type": "code",
   "execution_count": 3,
   "id": "31c6e8c1",
   "metadata": {},
   "outputs": [],
   "source": [
    "comet_ml.init(project_name = \"report_eda\")"
   ]
  },
  {
   "cell_type": "code",
   "execution_count": 4,
   "id": "38ceee36",
   "metadata": {},
   "outputs": [],
   "source": [
    "# Informations Détaillées Des données"
   ]
  },
  {
   "cell_type": "code",
   "execution_count": 5,
   "id": "1da9e94e",
   "metadata": {},
   "outputs": [],
   "source": [
    "# Load data from repository\n",
    "train = pd.read_csv('http://cooltiming.com/SV/train.csv')\n",
    "test = pd.read_csv('http://cooltiming.com/SV/test.csv')"
   ]
  },
  {
   "cell_type": "code",
   "execution_count": null,
   "id": "d7dd7bb5",
   "metadata": {},
   "outputs": [],
   "source": [
    "# sweetviz to generate a report locally, will get AUTOMATICALLY LOGGED to experiment\n",
    "report = sweetviz.compare([train, \"Train\"], [test, \"Test\"], \"Survived\")\n",
    "report.show(filepath=\"SWEETVIZ_REPORT.html\", open_browser=False)"
   ]
  },
  {
   "cell_type": "code",
   "execution_count": 7,
   "id": "1d288200",
   "metadata": {},
   "outputs": [
    {
     "name": "stderr",
     "output_type": "stream",
     "text": [
      "\u001b[1;38;5;214mCOMET WARNING:\u001b[0m As you are running in a Jupyter environment, you will need to call `experiment.end()` when finished to ensure all metrics and code are logged before exiting.\n",
      "\u001b[1;38;5;39mCOMET INFO:\u001b[0m Couldn't find a Git repository in 'C:\\\\Users\\\\Caplogy_Data_002\\\\autoeda' nor in any parent directory. Set `COMET_GIT_DIRECTORY` if your Git Repository is elsewhere.\n",
      "\u001b[1;38;5;39mCOMET INFO:\u001b[0m Experiment is live on comet.com https://www.comet.com/etixi/sweetvizcometml-notebook/79568d142f5e499d9560af866ff414d4\n",
      "\n"
     ]
    },
    {
     "data": {
      "application/vnd.jupyter.widget-view+json": {
       "model_id": "4f79e5556d7c43d9b435b46bc5a6b5c8",
       "version_major": 2,
       "version_minor": 0
      },
      "text/plain": [
       "                                             |                                             | [  0%]   00:00 ->…"
      ]
     },
     "metadata": {},
     "output_type": "display_data"
    },
    {
     "name": "stderr",
     "output_type": "stream",
     "text": [
      "\u001b[1;38;5;39mCOMET INFO:\u001b[0m ---------------------------------------------------------------------------------------\n",
      "\u001b[1;38;5;39mCOMET INFO:\u001b[0m Comet.ml Experiment Summary\n",
      "\u001b[1;38;5;39mCOMET INFO:\u001b[0m ---------------------------------------------------------------------------------------\n",
      "\u001b[1;38;5;39mCOMET INFO:\u001b[0m   Data:\n",
      "\u001b[1;38;5;39mCOMET INFO:\u001b[0m     display_summary_level : 1\n",
      "\u001b[1;38;5;39mCOMET INFO:\u001b[0m     url                   : https://www.comet.com/etixi/sweetvizcometml-notebook/79568d142f5e499d9560af866ff414d4\n",
      "\u001b[1;38;5;39mCOMET INFO:\u001b[0m   Uploads:\n",
      "\u001b[1;38;5;39mCOMET INFO:\u001b[0m     conda-environment-definition : 1\n",
      "\u001b[1;38;5;39mCOMET INFO:\u001b[0m     conda-info                   : 1\n",
      "\u001b[1;38;5;39mCOMET INFO:\u001b[0m     conda-specification          : 1\n",
      "\u001b[1;38;5;39mCOMET INFO:\u001b[0m     environment details          : 1\n",
      "\u001b[1;38;5;39mCOMET INFO:\u001b[0m     filename                     : 1\n",
      "\u001b[1;38;5;39mCOMET INFO:\u001b[0m     html                         : 1\n",
      "\u001b[1;38;5;39mCOMET INFO:\u001b[0m     installed packages           : 1\n",
      "\u001b[1;38;5;39mCOMET INFO:\u001b[0m     notebook                     : 1\n",
      "\u001b[1;38;5;39mCOMET INFO:\u001b[0m     source_code                  : 1\n",
      "\u001b[1;38;5;39mCOMET INFO:\u001b[0m \n",
      "\u001b[1;38;5;39mCOMET INFO:\u001b[0m Please wait for metadata to finish uploading (timeout is 3600 seconds)\n",
      "\u001b[1;38;5;39mCOMET INFO:\u001b[0m Uploading 17 metrics, params and output messages\n"
     ]
    }
   ],
   "source": [
    "# Start experiment\n",
    "exp = comet_ml.Experiment(project_name=\"SweetvizCometML_Notebook\")\n",
    "\n",
    "# swetviz to generate a report\n",
    "report = sweetviz.compare([train, \"Train\"], [test, \"Test\"], \"Survived\")\n",
    "\n",
    "# Log to comet instead\n",
    "report.log_comet(exp)\n",
    "\n",
    "# End Experiment\n",
    "exp.end()"
   ]
  },
  {
   "cell_type": "code",
   "execution_count": null,
   "id": "8f021f2b",
   "metadata": {},
   "outputs": [],
   "source": []
  }
 ],
 "metadata": {
  "kernelspec": {
   "display_name": "Python 3 (ipykernel)",
   "language": "python",
   "name": "python3"
  },
  "language_info": {
   "codemirror_mode": {
    "name": "ipython",
    "version": 3
   },
   "file_extension": ".py",
   "mimetype": "text/x-python",
   "name": "python",
   "nbconvert_exporter": "python",
   "pygments_lexer": "ipython3",
   "version": "3.11.5"
  }
 },
 "nbformat": 4,
 "nbformat_minor": 5
}
