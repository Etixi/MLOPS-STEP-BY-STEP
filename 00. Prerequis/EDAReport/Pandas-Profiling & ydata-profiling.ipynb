{
 "cells": [
  {
   "cell_type": "code",
   "execution_count": 1,
   "id": "2f718873",
   "metadata": {},
   "outputs": [],
   "source": [
    "# Standard Library Imports\n",
    "# from pathlib import path\n",
    "\n",
    "# Installed packages\n",
    "import pandas as pd\n",
    "\n",
    "# Our package\n",
    "from ydata_profiling import ProfileReport\n",
    "from ydata_profiling.utils.cache import cache_file"
   ]
  },
  {
   "cell_type": "code",
   "execution_count": 2,
   "id": "31c6e8c1",
   "metadata": {},
   "outputs": [],
   "source": [
    "# Read The Titanic Dataset\n",
    "file_name = cache_file (\n",
    "    \"titanic_csv\",\n",
    "    \"https://raw.githubusercontent.com/datasciencedojo/datasets/master/titanic.csv\"\n",
    ")\n",
    "\n",
    "df = pd.read_csv(file_name)"
   ]
  },
  {
   "cell_type": "code",
   "execution_count": 3,
   "id": "38ceee36",
   "metadata": {},
   "outputs": [],
   "source": [
    "# Informations Détaillées Des données"
   ]
  },
  {
   "cell_type": "code",
   "execution_count": 4,
   "id": "1da9e94e",
   "metadata": {},
   "outputs": [
    {
     "data": {
      "text/plain": [
       "Index(['PassengerId', 'Survived', 'Pclass', 'Name', 'Sex', 'Age', 'SibSp',\n",
       "       'Parch', 'Ticket', 'Fare', 'Cabin', 'Embarked'],\n",
       "      dtype='object')"
      ]
     },
     "execution_count": 4,
     "metadata": {},
     "output_type": "execute_result"
    }
   ],
   "source": [
    "df.columns"
   ]
  },
  {
   "cell_type": "code",
   "execution_count": 5,
   "id": "2e81336f",
   "metadata": {},
   "outputs": [],
   "source": [
    "def get_data_summary(df):\n",
    "    '''Generate important summary information of a given\n",
    "    Pandas DataFrame'''\n",
    "    \n",
    "    print(\"========== Information globale ==========\")\n",
    "    display(df.info())\n",
    "    print(\"\\n========== Comptage des Valeurs Sans doublon ==========\\n\")\n",
    "    display(df.nunique())\n",
    "    print(\"\\n============ Statistiques Descriptives ===========================\")\n",
    "    display(df.describe())\n",
    "    print(\"\\n=======================================\")\n",
    "    display(df.head(5).style.background_gradient(axis=0))"
   ]
  },
  {
   "cell_type": "code",
   "execution_count": 6,
   "id": "51fe4d28",
   "metadata": {},
   "outputs": [
    {
     "name": "stdout",
     "output_type": "stream",
     "text": [
      "========== Information globale ==========\n",
      "<class 'pandas.core.frame.DataFrame'>\n",
      "RangeIndex: 891 entries, 0 to 890\n",
      "Data columns (total 12 columns):\n",
      " #   Column       Non-Null Count  Dtype  \n",
      "---  ------       --------------  -----  \n",
      " 0   PassengerId  891 non-null    int64  \n",
      " 1   Survived     891 non-null    int64  \n",
      " 2   Pclass       891 non-null    int64  \n",
      " 3   Name         891 non-null    object \n",
      " 4   Sex          891 non-null    object \n",
      " 5   Age          714 non-null    float64\n",
      " 6   SibSp        891 non-null    int64  \n",
      " 7   Parch        891 non-null    int64  \n",
      " 8   Ticket       891 non-null    object \n",
      " 9   Fare         891 non-null    float64\n",
      " 10  Cabin        204 non-null    object \n",
      " 11  Embarked     889 non-null    object \n",
      "dtypes: float64(2), int64(5), object(5)\n",
      "memory usage: 83.7+ KB\n"
     ]
    },
    {
     "data": {
      "text/plain": [
       "None"
      ]
     },
     "metadata": {},
     "output_type": "display_data"
    },
    {
     "name": "stdout",
     "output_type": "stream",
     "text": [
      "\n",
      "========== Comptage des Valeurs Sans doublon ==========\n",
      "\n"
     ]
    },
    {
     "data": {
      "text/plain": [
       "PassengerId    891\n",
       "Survived         2\n",
       "Pclass           3\n",
       "Name           891\n",
       "Sex              2\n",
       "Age             88\n",
       "SibSp            7\n",
       "Parch            7\n",
       "Ticket         681\n",
       "Fare           248\n",
       "Cabin          147\n",
       "Embarked         3\n",
       "dtype: int64"
      ]
     },
     "metadata": {},
     "output_type": "display_data"
    },
    {
     "name": "stdout",
     "output_type": "stream",
     "text": [
      "\n",
      "============ Statistiques Descriptives ===========================\n"
     ]
    },
    {
     "data": {
      "text/html": [
       "<div>\n",
       "<style scoped>\n",
       "    .dataframe tbody tr th:only-of-type {\n",
       "        vertical-align: middle;\n",
       "    }\n",
       "\n",
       "    .dataframe tbody tr th {\n",
       "        vertical-align: top;\n",
       "    }\n",
       "\n",
       "    .dataframe thead th {\n",
       "        text-align: right;\n",
       "    }\n",
       "</style>\n",
       "<table border=\"1\" class=\"dataframe\">\n",
       "  <thead>\n",
       "    <tr style=\"text-align: right;\">\n",
       "      <th></th>\n",
       "      <th>PassengerId</th>\n",
       "      <th>Survived</th>\n",
       "      <th>Pclass</th>\n",
       "      <th>Age</th>\n",
       "      <th>SibSp</th>\n",
       "      <th>Parch</th>\n",
       "      <th>Fare</th>\n",
       "    </tr>\n",
       "  </thead>\n",
       "  <tbody>\n",
       "    <tr>\n",
       "      <th>count</th>\n",
       "      <td>891.000000</td>\n",
       "      <td>891.000000</td>\n",
       "      <td>891.000000</td>\n",
       "      <td>714.000000</td>\n",
       "      <td>891.000000</td>\n",
       "      <td>891.000000</td>\n",
       "      <td>891.000000</td>\n",
       "    </tr>\n",
       "    <tr>\n",
       "      <th>mean</th>\n",
       "      <td>446.000000</td>\n",
       "      <td>0.383838</td>\n",
       "      <td>2.308642</td>\n",
       "      <td>29.699118</td>\n",
       "      <td>0.523008</td>\n",
       "      <td>0.381594</td>\n",
       "      <td>32.204208</td>\n",
       "    </tr>\n",
       "    <tr>\n",
       "      <th>std</th>\n",
       "      <td>257.353842</td>\n",
       "      <td>0.486592</td>\n",
       "      <td>0.836071</td>\n",
       "      <td>14.526497</td>\n",
       "      <td>1.102743</td>\n",
       "      <td>0.806057</td>\n",
       "      <td>49.693429</td>\n",
       "    </tr>\n",
       "    <tr>\n",
       "      <th>min</th>\n",
       "      <td>1.000000</td>\n",
       "      <td>0.000000</td>\n",
       "      <td>1.000000</td>\n",
       "      <td>0.420000</td>\n",
       "      <td>0.000000</td>\n",
       "      <td>0.000000</td>\n",
       "      <td>0.000000</td>\n",
       "    </tr>\n",
       "    <tr>\n",
       "      <th>25%</th>\n",
       "      <td>223.500000</td>\n",
       "      <td>0.000000</td>\n",
       "      <td>2.000000</td>\n",
       "      <td>20.125000</td>\n",
       "      <td>0.000000</td>\n",
       "      <td>0.000000</td>\n",
       "      <td>7.910400</td>\n",
       "    </tr>\n",
       "    <tr>\n",
       "      <th>50%</th>\n",
       "      <td>446.000000</td>\n",
       "      <td>0.000000</td>\n",
       "      <td>3.000000</td>\n",
       "      <td>28.000000</td>\n",
       "      <td>0.000000</td>\n",
       "      <td>0.000000</td>\n",
       "      <td>14.454200</td>\n",
       "    </tr>\n",
       "    <tr>\n",
       "      <th>75%</th>\n",
       "      <td>668.500000</td>\n",
       "      <td>1.000000</td>\n",
       "      <td>3.000000</td>\n",
       "      <td>38.000000</td>\n",
       "      <td>1.000000</td>\n",
       "      <td>0.000000</td>\n",
       "      <td>31.000000</td>\n",
       "    </tr>\n",
       "    <tr>\n",
       "      <th>max</th>\n",
       "      <td>891.000000</td>\n",
       "      <td>1.000000</td>\n",
       "      <td>3.000000</td>\n",
       "      <td>80.000000</td>\n",
       "      <td>8.000000</td>\n",
       "      <td>6.000000</td>\n",
       "      <td>512.329200</td>\n",
       "    </tr>\n",
       "  </tbody>\n",
       "</table>\n",
       "</div>"
      ],
      "text/plain": [
       "       PassengerId    Survived      Pclass         Age       SibSp  \\\n",
       "count   891.000000  891.000000  891.000000  714.000000  891.000000   \n",
       "mean    446.000000    0.383838    2.308642   29.699118    0.523008   \n",
       "std     257.353842    0.486592    0.836071   14.526497    1.102743   \n",
       "min       1.000000    0.000000    1.000000    0.420000    0.000000   \n",
       "25%     223.500000    0.000000    2.000000   20.125000    0.000000   \n",
       "50%     446.000000    0.000000    3.000000   28.000000    0.000000   \n",
       "75%     668.500000    1.000000    3.000000   38.000000    1.000000   \n",
       "max     891.000000    1.000000    3.000000   80.000000    8.000000   \n",
       "\n",
       "            Parch        Fare  \n",
       "count  891.000000  891.000000  \n",
       "mean     0.381594   32.204208  \n",
       "std      0.806057   49.693429  \n",
       "min      0.000000    0.000000  \n",
       "25%      0.000000    7.910400  \n",
       "50%      0.000000   14.454200  \n",
       "75%      0.000000   31.000000  \n",
       "max      6.000000  512.329200  "
      ]
     },
     "metadata": {},
     "output_type": "display_data"
    },
    {
     "name": "stdout",
     "output_type": "stream",
     "text": [
      "\n",
      "=======================================\n"
     ]
    },
    {
     "data": {
      "text/html": [
       "<style type=\"text/css\">\n",
       "#T_75367_row0_col0, #T_75367_row0_col1, #T_75367_row0_col5, #T_75367_row0_col7, #T_75367_row0_col9, #T_75367_row1_col2, #T_75367_row1_col7, #T_75367_row2_col6, #T_75367_row2_col7, #T_75367_row3_col2, #T_75367_row3_col7, #T_75367_row4_col1, #T_75367_row4_col6, #T_75367_row4_col7 {\n",
       "  background-color: #fff7fb;\n",
       "  color: #000000;\n",
       "}\n",
       "#T_75367_row0_col2, #T_75367_row0_col6, #T_75367_row1_col1, #T_75367_row1_col5, #T_75367_row1_col6, #T_75367_row1_col9, #T_75367_row2_col1, #T_75367_row2_col2, #T_75367_row3_col1, #T_75367_row3_col6, #T_75367_row4_col0, #T_75367_row4_col2 {\n",
       "  background-color: #023858;\n",
       "  color: #f1f1f1;\n",
       "}\n",
       "#T_75367_row1_col0, #T_75367_row2_col5 {\n",
       "  background-color: #d0d1e6;\n",
       "  color: #000000;\n",
       "}\n",
       "#T_75367_row2_col0 {\n",
       "  background-color: #73a9cf;\n",
       "  color: #f1f1f1;\n",
       "}\n",
       "#T_75367_row2_col9 {\n",
       "  background-color: #fef6fa;\n",
       "  color: #000000;\n",
       "}\n",
       "#T_75367_row3_col0 {\n",
       "  background-color: #056faf;\n",
       "  color: #f1f1f1;\n",
       "}\n",
       "#T_75367_row3_col5, #T_75367_row4_col5 {\n",
       "  background-color: #04649e;\n",
       "  color: #f1f1f1;\n",
       "}\n",
       "#T_75367_row3_col9 {\n",
       "  background-color: #1278b4;\n",
       "  color: #f1f1f1;\n",
       "}\n",
       "#T_75367_row4_col9 {\n",
       "  background-color: #fdf5fa;\n",
       "  color: #000000;\n",
       "}\n",
       "</style>\n",
       "<table id=\"T_75367\">\n",
       "  <thead>\n",
       "    <tr>\n",
       "      <th class=\"blank level0\" >&nbsp;</th>\n",
       "      <th id=\"T_75367_level0_col0\" class=\"col_heading level0 col0\" >PassengerId</th>\n",
       "      <th id=\"T_75367_level0_col1\" class=\"col_heading level0 col1\" >Survived</th>\n",
       "      <th id=\"T_75367_level0_col2\" class=\"col_heading level0 col2\" >Pclass</th>\n",
       "      <th id=\"T_75367_level0_col3\" class=\"col_heading level0 col3\" >Name</th>\n",
       "      <th id=\"T_75367_level0_col4\" class=\"col_heading level0 col4\" >Sex</th>\n",
       "      <th id=\"T_75367_level0_col5\" class=\"col_heading level0 col5\" >Age</th>\n",
       "      <th id=\"T_75367_level0_col6\" class=\"col_heading level0 col6\" >SibSp</th>\n",
       "      <th id=\"T_75367_level0_col7\" class=\"col_heading level0 col7\" >Parch</th>\n",
       "      <th id=\"T_75367_level0_col8\" class=\"col_heading level0 col8\" >Ticket</th>\n",
       "      <th id=\"T_75367_level0_col9\" class=\"col_heading level0 col9\" >Fare</th>\n",
       "      <th id=\"T_75367_level0_col10\" class=\"col_heading level0 col10\" >Cabin</th>\n",
       "      <th id=\"T_75367_level0_col11\" class=\"col_heading level0 col11\" >Embarked</th>\n",
       "    </tr>\n",
       "  </thead>\n",
       "  <tbody>\n",
       "    <tr>\n",
       "      <th id=\"T_75367_level0_row0\" class=\"row_heading level0 row0\" >0</th>\n",
       "      <td id=\"T_75367_row0_col0\" class=\"data row0 col0\" >1</td>\n",
       "      <td id=\"T_75367_row0_col1\" class=\"data row0 col1\" >0</td>\n",
       "      <td id=\"T_75367_row0_col2\" class=\"data row0 col2\" >3</td>\n",
       "      <td id=\"T_75367_row0_col3\" class=\"data row0 col3\" >Braund, Mr. Owen Harris</td>\n",
       "      <td id=\"T_75367_row0_col4\" class=\"data row0 col4\" >male</td>\n",
       "      <td id=\"T_75367_row0_col5\" class=\"data row0 col5\" >22.000000</td>\n",
       "      <td id=\"T_75367_row0_col6\" class=\"data row0 col6\" >1</td>\n",
       "      <td id=\"T_75367_row0_col7\" class=\"data row0 col7\" >0</td>\n",
       "      <td id=\"T_75367_row0_col8\" class=\"data row0 col8\" >A/5 21171</td>\n",
       "      <td id=\"T_75367_row0_col9\" class=\"data row0 col9\" >7.250000</td>\n",
       "      <td id=\"T_75367_row0_col10\" class=\"data row0 col10\" >nan</td>\n",
       "      <td id=\"T_75367_row0_col11\" class=\"data row0 col11\" >S</td>\n",
       "    </tr>\n",
       "    <tr>\n",
       "      <th id=\"T_75367_level0_row1\" class=\"row_heading level0 row1\" >1</th>\n",
       "      <td id=\"T_75367_row1_col0\" class=\"data row1 col0\" >2</td>\n",
       "      <td id=\"T_75367_row1_col1\" class=\"data row1 col1\" >1</td>\n",
       "      <td id=\"T_75367_row1_col2\" class=\"data row1 col2\" >1</td>\n",
       "      <td id=\"T_75367_row1_col3\" class=\"data row1 col3\" >Cumings, Mrs. John Bradley (Florence Briggs Thayer)</td>\n",
       "      <td id=\"T_75367_row1_col4\" class=\"data row1 col4\" >female</td>\n",
       "      <td id=\"T_75367_row1_col5\" class=\"data row1 col5\" >38.000000</td>\n",
       "      <td id=\"T_75367_row1_col6\" class=\"data row1 col6\" >1</td>\n",
       "      <td id=\"T_75367_row1_col7\" class=\"data row1 col7\" >0</td>\n",
       "      <td id=\"T_75367_row1_col8\" class=\"data row1 col8\" >PC 17599</td>\n",
       "      <td id=\"T_75367_row1_col9\" class=\"data row1 col9\" >71.283300</td>\n",
       "      <td id=\"T_75367_row1_col10\" class=\"data row1 col10\" >C85</td>\n",
       "      <td id=\"T_75367_row1_col11\" class=\"data row1 col11\" >C</td>\n",
       "    </tr>\n",
       "    <tr>\n",
       "      <th id=\"T_75367_level0_row2\" class=\"row_heading level0 row2\" >2</th>\n",
       "      <td id=\"T_75367_row2_col0\" class=\"data row2 col0\" >3</td>\n",
       "      <td id=\"T_75367_row2_col1\" class=\"data row2 col1\" >1</td>\n",
       "      <td id=\"T_75367_row2_col2\" class=\"data row2 col2\" >3</td>\n",
       "      <td id=\"T_75367_row2_col3\" class=\"data row2 col3\" >Heikkinen, Miss. Laina</td>\n",
       "      <td id=\"T_75367_row2_col4\" class=\"data row2 col4\" >female</td>\n",
       "      <td id=\"T_75367_row2_col5\" class=\"data row2 col5\" >26.000000</td>\n",
       "      <td id=\"T_75367_row2_col6\" class=\"data row2 col6\" >0</td>\n",
       "      <td id=\"T_75367_row2_col7\" class=\"data row2 col7\" >0</td>\n",
       "      <td id=\"T_75367_row2_col8\" class=\"data row2 col8\" >STON/O2. 3101282</td>\n",
       "      <td id=\"T_75367_row2_col9\" class=\"data row2 col9\" >7.925000</td>\n",
       "      <td id=\"T_75367_row2_col10\" class=\"data row2 col10\" >nan</td>\n",
       "      <td id=\"T_75367_row2_col11\" class=\"data row2 col11\" >S</td>\n",
       "    </tr>\n",
       "    <tr>\n",
       "      <th id=\"T_75367_level0_row3\" class=\"row_heading level0 row3\" >3</th>\n",
       "      <td id=\"T_75367_row3_col0\" class=\"data row3 col0\" >4</td>\n",
       "      <td id=\"T_75367_row3_col1\" class=\"data row3 col1\" >1</td>\n",
       "      <td id=\"T_75367_row3_col2\" class=\"data row3 col2\" >1</td>\n",
       "      <td id=\"T_75367_row3_col3\" class=\"data row3 col3\" >Futrelle, Mrs. Jacques Heath (Lily May Peel)</td>\n",
       "      <td id=\"T_75367_row3_col4\" class=\"data row3 col4\" >female</td>\n",
       "      <td id=\"T_75367_row3_col5\" class=\"data row3 col5\" >35.000000</td>\n",
       "      <td id=\"T_75367_row3_col6\" class=\"data row3 col6\" >1</td>\n",
       "      <td id=\"T_75367_row3_col7\" class=\"data row3 col7\" >0</td>\n",
       "      <td id=\"T_75367_row3_col8\" class=\"data row3 col8\" >113803</td>\n",
       "      <td id=\"T_75367_row3_col9\" class=\"data row3 col9\" >53.100000</td>\n",
       "      <td id=\"T_75367_row3_col10\" class=\"data row3 col10\" >C123</td>\n",
       "      <td id=\"T_75367_row3_col11\" class=\"data row3 col11\" >S</td>\n",
       "    </tr>\n",
       "    <tr>\n",
       "      <th id=\"T_75367_level0_row4\" class=\"row_heading level0 row4\" >4</th>\n",
       "      <td id=\"T_75367_row4_col0\" class=\"data row4 col0\" >5</td>\n",
       "      <td id=\"T_75367_row4_col1\" class=\"data row4 col1\" >0</td>\n",
       "      <td id=\"T_75367_row4_col2\" class=\"data row4 col2\" >3</td>\n",
       "      <td id=\"T_75367_row4_col3\" class=\"data row4 col3\" >Allen, Mr. William Henry</td>\n",
       "      <td id=\"T_75367_row4_col4\" class=\"data row4 col4\" >male</td>\n",
       "      <td id=\"T_75367_row4_col5\" class=\"data row4 col5\" >35.000000</td>\n",
       "      <td id=\"T_75367_row4_col6\" class=\"data row4 col6\" >0</td>\n",
       "      <td id=\"T_75367_row4_col7\" class=\"data row4 col7\" >0</td>\n",
       "      <td id=\"T_75367_row4_col8\" class=\"data row4 col8\" >373450</td>\n",
       "      <td id=\"T_75367_row4_col9\" class=\"data row4 col9\" >8.050000</td>\n",
       "      <td id=\"T_75367_row4_col10\" class=\"data row4 col10\" >nan</td>\n",
       "      <td id=\"T_75367_row4_col11\" class=\"data row4 col11\" >S</td>\n",
       "    </tr>\n",
       "  </tbody>\n",
       "</table>\n"
      ],
      "text/plain": [
       "<pandas.io.formats.style.Styler at 0x1f784b05650>"
      ]
     },
     "metadata": {},
     "output_type": "display_data"
    }
   ],
   "source": [
    "get_data_summary(df)"
   ]
  },
  {
   "cell_type": "markdown",
   "id": "71062022",
   "metadata": {},
   "source": [
    "# Valeurs Manquantes"
   ]
  },
  {
   "cell_type": "code",
   "execution_count": 7,
   "id": "e583cdc7",
   "metadata": {},
   "outputs": [],
   "source": [
    "def missing_value(df):\n",
    "  d1 = df.isna().sum().to_frame()\n",
    "  d2 = (df.isna().sum() / df.shape[0]).to_frame()\n",
    "  d3 = df.dtypes.to_frame()\n",
    "  df_missing = pd.concat([d1,d2,d3],axis = 1)\n",
    "  df_missing.columns = ['missing value','% of missing value','dtypes']\n",
    "  print('='*100)\n",
    "  if (df_missing.iloc[:,0].any() !=0):\n",
    "      print(\"Notre dataframe comporte \" + str(df.shape[1]) +\n",
    "      \" colonnes. Et il y a \" + str(df_missing.shape[1]) + \" colonnes qui ont des valeurs manquantes.\")\n",
    "  else:\n",
    "      print(\"Notre dataframe comporte \" + str(df.shape[1]) +\n",
    "      \" colonnes. Et il n'y a aucune colonne qui à des valeurs manquantes.\")\n",
    "  print('-'*100)\n",
    "  print(df_missing)"
   ]
  },
  {
   "cell_type": "code",
   "execution_count": 8,
   "id": "ae5da30e",
   "metadata": {},
   "outputs": [
    {
     "name": "stdout",
     "output_type": "stream",
     "text": [
      "====================================================================================================\n",
      "Notre dataframe comporte 12 colonnes. Et il y a 3 colonnes qui ont des valeurs manquantes.\n",
      "----------------------------------------------------------------------------------------------------\n",
      "             missing value  % of missing value   dtypes\n",
      "PassengerId              0            0.000000    int64\n",
      "Survived                 0            0.000000    int64\n",
      "Pclass                   0            0.000000    int64\n",
      "Name                     0            0.000000   object\n",
      "Sex                      0            0.000000   object\n",
      "Age                    177            0.198653  float64\n",
      "SibSp                    0            0.000000    int64\n",
      "Parch                    0            0.000000    int64\n",
      "Ticket                   0            0.000000   object\n",
      "Fare                     0            0.000000  float64\n",
      "Cabin                  687            0.771044   object\n",
      "Embarked                 2            0.002245   object\n"
     ]
    }
   ],
   "source": [
    "missing_value(df)"
   ]
  },
  {
   "cell_type": "markdown",
   "id": "f335e306",
   "metadata": {},
   "source": [
    "# Pandas Profiling And ydata Profiling"
   ]
  },
  {
   "cell_type": "code",
   "execution_count": 11,
   "id": "b9a8f385",
   "metadata": {},
   "outputs": [],
   "source": [
    "# Generate the Profiling Report\n",
    "profile = ProfileReport(\n",
    "    df, title = \"Titanic Dataset\", html = {\"style\" : {\"full_width\" : True}}, sort = None\n",
    ")"
   ]
  },
  {
   "cell_type": "code",
   "execution_count": 13,
   "id": "8c2406ff",
   "metadata": {},
   "outputs": [
    {
     "data": {
      "application/vnd.jupyter.widget-view+json": {
       "model_id": "0d8347439c464c3c8420553ad631dfe1",
       "version_major": 2,
       "version_minor": 0
      },
      "text/plain": [
       "Summarize dataset:   0%|          | 0/5 [00:00<?, ?it/s]"
      ]
     },
     "metadata": {},
     "output_type": "display_data"
    },
    {
     "data": {
      "application/vnd.jupyter.widget-view+json": {
       "model_id": "7f27d5dca06e4c1e83a04ff63261ae81",
       "version_major": 2,
       "version_minor": 0
      },
      "text/plain": [
       "Generate report structure:   0%|          | 0/1 [00:00<?, ?it/s]"
      ]
     },
     "metadata": {},
     "output_type": "display_data"
    },
    {
     "data": {
      "application/vnd.jupyter.widget-view+json": {
       "model_id": "6dc4641515854125ad88c6d9cf137efb",
       "version_major": 2,
       "version_minor": 0
      },
      "text/plain": [
       "Render HTML:   0%|          | 0/1 [00:00<?, ?it/s]"
      ]
     },
     "metadata": {},
     "output_type": "display_data"
    },
    {
     "data": {
      "application/vnd.jupyter.widget-view+json": {
       "model_id": "c0487a025a214c9bbe01dcddbd393bfc",
       "version_major": 2,
       "version_minor": 0
      },
      "text/plain": [
       "Export report to file:   0%|          | 0/1 [00:00<?, ?it/s]"
      ]
     },
     "metadata": {},
     "output_type": "display_data"
    }
   ],
   "source": [
    "# The HTML report in an iframe\n",
    "profile.to_file(\"PANDAS_PROFILING.html\")"
   ]
  },
  {
   "cell_type": "code",
   "execution_count": null,
   "id": "1d288200",
   "metadata": {},
   "outputs": [],
   "source": []
  }
 ],
 "metadata": {
  "kernelspec": {
   "display_name": "Python 3 (ipykernel)",
   "language": "python",
   "name": "python3"
  },
  "language_info": {
   "codemirror_mode": {
    "name": "ipython",
    "version": 3
   },
   "file_extension": ".py",
   "mimetype": "text/x-python",
   "name": "python",
   "nbconvert_exporter": "python",
   "pygments_lexer": "ipython3",
   "version": "3.11.5"
  }
 },
 "nbformat": 4,
 "nbformat_minor": 5
}
