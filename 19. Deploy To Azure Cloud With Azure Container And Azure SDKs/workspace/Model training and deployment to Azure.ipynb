{
 "cells": [
  {
   "cell_type": "markdown",
   "metadata": {},
   "source": [
    "## Model training and deployment to Azure"
   ]
  },
  {
   "cell_type": "markdown",
   "metadata": {},
   "source": [
    "#### Installation of accessory libraries"
   ]
  },
  {
   "cell_type": "code",
   "execution_count": 1,
   "metadata": {},
   "outputs": [
    {
     "name": "stdout",
     "output_type": "stream",
     "text": [
      "3.0.4\n"
     ]
    }
   ],
   "source": [
    "import pycaret \n",
    "print(pycaret.__version__)"
   ]
  },
  {
   "cell_type": "code",
   "execution_count": 2,
   "metadata": {
    "colab": {
     "base_uri": "https://localhost:8080/",
     "height": 485
    },
    "colab_type": "code",
    "id": "PtdFIPJJ0zHX",
    "outputId": "58dee8d4-02f9-4018-c3ba-3dd3209628ff"
   },
   "outputs": [
    {
     "name": "stdout",
     "output_type": "stream",
     "text": [
      "Collecting azure-storage-blob\n",
      "  Using cached azure_storage_blob-12.17.0-py3-none-any.whl (388 kB)\n",
      "Collecting azure-core<2.0.0,>=1.28.0 (from azure-storage-blob)\n",
      "  Using cached azure_core-1.29.3-py3-none-any.whl (191 kB)\n",
      "Requirement already satisfied: cryptography>=2.1.4 in c:\\users\\caplogy_data_002\\anaconda3\\lib\\site-packages (from azure-storage-blob) (39.0.1)\n",
      "Requirement already satisfied: typing-extensions>=4.3.0 in c:\\users\\caplogy_data_002\\anaconda3\\lib\\site-packages (from azure-storage-blob) (4.7.1)\n",
      "Collecting isodate>=0.6.1 (from azure-storage-blob)\n",
      "  Using cached isodate-0.6.1-py2.py3-none-any.whl (41 kB)\n",
      "Requirement already satisfied: requests>=2.18.4 in c:\\users\\caplogy_data_002\\appdata\\roaming\\python\\python311\\site-packages (from azure-core<2.0.0,>=1.28.0->azure-storage-blob) (2.31.0)\n",
      "Requirement already satisfied: six>=1.11.0 in c:\\users\\caplogy_data_002\\anaconda3\\lib\\site-packages (from azure-core<2.0.0,>=1.28.0->azure-storage-blob) (1.16.0)\n",
      "Requirement already satisfied: cffi>=1.12 in c:\\users\\caplogy_data_002\\appdata\\roaming\\python\\python311\\site-packages (from cryptography>=2.1.4->azure-storage-blob) (1.15.1)\n",
      "Requirement already satisfied: pycparser in c:\\users\\caplogy_data_002\\appdata\\roaming\\python\\python311\\site-packages (from cffi>=1.12->cryptography>=2.1.4->azure-storage-blob) (2.21)\n",
      "Requirement already satisfied: charset-normalizer<4,>=2 in c:\\users\\caplogy_data_002\\anaconda3\\lib\\site-packages (from requests>=2.18.4->azure-core<2.0.0,>=1.28.0->azure-storage-blob) (2.0.4)\n",
      "Requirement already satisfied: idna<4,>=2.5 in c:\\users\\caplogy_data_002\\anaconda3\\lib\\site-packages (from requests>=2.18.4->azure-core<2.0.0,>=1.28.0->azure-storage-blob) (3.4)\n",
      "Requirement already satisfied: urllib3<3,>=1.21.1 in c:\\users\\caplogy_data_002\\anaconda3\\lib\\site-packages (from requests>=2.18.4->azure-core<2.0.0,>=1.28.0->azure-storage-blob) (1.26.16)\n",
      "Requirement already satisfied: certifi>=2017.4.17 in c:\\users\\caplogy_data_002\\appdata\\roaming\\python\\python311\\site-packages (from requests>=2.18.4->azure-core<2.0.0,>=1.28.0->azure-storage-blob) (2023.7.22)\n",
      "Installing collected packages: isodate, azure-core, azure-storage-blob\n",
      "Successfully installed azure-core-1.29.3 azure-storage-blob-12.17.0 isodate-0.6.1\n"
     ]
    }
   ],
   "source": [
    "!pip install azure-storage-blob"
   ]
  },
  {
   "cell_type": "code",
   "execution_count": 4,
   "metadata": {
    "colab": {
     "base_uri": "https://localhost:8080/",
     "height": 1000
    },
    "colab_type": "code",
    "id": "LrRweUsz9bSl",
    "outputId": "572e1550-2c0b-4a99-ed67-1d6de4f40a52"
   },
   "outputs": [
    {
     "name": "stdout",
     "output_type": "stream",
     "text": [
      "Collecting git+https://github.com/amjadraza/pycaret.git@feature/gcp_azure_np_docs\n",
      "  Cloning https://github.com/amjadraza/pycaret.git (to revision feature/gcp_azure_np_docs) to c:\\users\\caplogy_data_002\\appdata\\local\\temp\\pip-req-build-0vtmc6o5\n",
      "  Resolved https://github.com/amjadraza/pycaret.git to commit b583d082a8be33f9d7afde634fd1b27847c33f6c\n",
      "  Preparing metadata (setup.py): started\n",
      "  Preparing metadata (setup.py): finished with status 'done'\n",
      "Requirement already satisfied: pandas in c:\\users\\caplogy_data_002\\anaconda3\\lib\\site-packages (from pycaret==2.0) (1.5.3)\n",
      "Requirement already satisfied: numpy>=1.17 in c:\\users\\caplogy_data_002\\anaconda3\\lib\\site-packages (from pycaret==2.0) (1.24.3)\n",
      "Requirement already satisfied: seaborn in c:\\users\\caplogy_data_002\\anaconda3\\lib\\site-packages (from pycaret==2.0) (0.12.2)\n",
      "Requirement already satisfied: matplotlib in c:\\users\\caplogy_data_002\\anaconda3\\lib\\site-packages (from pycaret==2.0) (3.7.1)\n",
      "Requirement already satisfied: IPython in c:\\users\\caplogy_data_002\\anaconda3\\lib\\site-packages (from pycaret==2.0) (8.12.0)\n",
      "Requirement already satisfied: joblib in c:\\users\\caplogy_data_002\\anaconda3\\lib\\site-packages (from pycaret==2.0) (1.2.0)\n",
      "Requirement already satisfied: scikit-learn>=0.23 in c:\\users\\caplogy_data_002\\anaconda3\\lib\\site-packages (from pycaret==2.0) (1.3.0)\n",
      "Requirement already satisfied: ipywidgets in c:\\users\\caplogy_data_002\\appdata\\roaming\\python\\python311\\site-packages (from pycaret==2.0) (8.0.7)\n",
      "Collecting yellowbrick>=1.0.1 (from pycaret==2.0)\n",
      "  Using cached yellowbrick-1.5-py3-none-any.whl (282 kB)\n",
      "Collecting xgboost>=0.90 (from pycaret==2.0)\n",
      "  Using cached xgboost-1.7.6-py3-none-win_amd64.whl (70.9 MB)\n",
      "Collecting lightgbm>=2.3.1 (from pycaret==2.0)\n",
      "  Using cached lightgbm-4.0.0-py3-none-win_amd64.whl (1.3 MB)\n",
      "Requirement already satisfied: plotly>=4.4.1 in c:\\users\\caplogy_data_002\\anaconda3\\lib\\site-packages (from pycaret==2.0) (5.9.0)\n",
      "Collecting wordcloud (from pycaret==2.0)\n",
      "  Using cached wordcloud-1.9.2-cp311-cp311-win_amd64.whl (151 kB)\n",
      "Collecting textblob (from pycaret==2.0)\n",
      "  Using cached textblob-0.17.1-py2.py3-none-any.whl (636 kB)\n",
      "Collecting cufflinks>=0.17.0 (from pycaret==2.0)\n",
      "  Using cached cufflinks-0.17.3.tar.gz (81 kB)\n",
      "  Preparing metadata (setup.py): started\n",
      "  Preparing metadata (setup.py): finished with status 'done'\n",
      "Collecting umap-learn (from pycaret==2.0)\n",
      "  Using cached umap-learn-0.5.3.tar.gz (88 kB)\n",
      "  Preparing metadata (setup.py): started\n",
      "  Preparing metadata (setup.py): finished with status 'done'\n",
      "Collecting pyLDAvis (from pycaret==2.0)\n",
      "  Using cached pyLDAvis-3.4.1-py3-none-any.whl (2.6 MB)\n",
      "Requirement already satisfied: gensim in c:\\users\\caplogy_data_002\\anaconda3\\lib\\site-packages (from pycaret==2.0) (4.3.0)\n",
      "Collecting spacy (from pycaret==2.0)\n",
      "  Using cached spacy-3.6.1-cp311-cp311-win_amd64.whl (12.0 MB)\n",
      "Requirement already satisfied: nltk in c:\\users\\caplogy_data_002\\anaconda3\\lib\\site-packages (from pycaret==2.0) (3.8.1)\n",
      "Collecting mlxtend (from pycaret==2.0)\n",
      "  Using cached mlxtend-0.22.0-py2.py3-none-any.whl (1.4 MB)\n",
      "Collecting pyod (from pycaret==2.0)\n",
      "  Using cached pyod-1.1.0.tar.gz (153 kB)\n",
      "  Preparing metadata (setup.py): started\n",
      "  Preparing metadata (setup.py): finished with status 'done'\n",
      "Collecting catboost (from pycaret==2.0)\n",
      "  Using cached catboost-1.2.1-cp311-cp311-win_amd64.whl (101.0 MB)\n",
      "Collecting pandas-profiling>=2.8.0 (from pycaret==2.0)\n",
      "  Using cached pandas_profiling-3.2.0-py2.py3-none-any.whl (262 kB)\n",
      "Collecting kmodes>=0.10.1 (from pycaret==2.0)\n",
      "  Using cached kmodes-0.12.2-py2.py3-none-any.whl (20 kB)\n",
      "Collecting datefinder>=0.7.0 (from pycaret==2.0)\n",
      "  Using cached datefinder-0.7.3-py2.py3-none-any.whl (10 kB)\n",
      "Collecting DateTime>=4.3 (from pycaret==2.0)\n",
      "  Using cached DateTime-5.2-py3-none-any.whl (52 kB)\n",
      "Requirement already satisfied: mlflow in c:\\users\\caplogy_data_002\\anaconda3\\lib\\site-packages (from pycaret==2.0) (2.0.0)\n",
      "Requirement already satisfied: imbalanced-learn in c:\\users\\caplogy_data_002\\anaconda3\\lib\\site-packages (from pycaret==2.0) (0.10.1)\n",
      "Requirement already satisfied: six>=1.9.0 in c:\\users\\caplogy_data_002\\anaconda3\\lib\\site-packages (from cufflinks>=0.17.0->pycaret==2.0) (1.16.0)\n",
      "Collecting colorlover>=0.2.1 (from cufflinks>=0.17.0->pycaret==2.0)\n",
      "  Using cached colorlover-0.3.0-py3-none-any.whl (8.9 kB)\n",
      "Requirement already satisfied: setuptools>=34.4.1 in c:\\users\\caplogy_data_002\\anaconda3\\lib\\site-packages (from cufflinks>=0.17.0->pycaret==2.0) (67.8.0)\n",
      "Requirement already satisfied: regex>=2017.02.08 in c:\\users\\caplogy_data_002\\anaconda3\\lib\\site-packages (from datefinder>=0.7.0->pycaret==2.0) (2022.7.9)\n",
      "Requirement already satisfied: python-dateutil>=2.4.2 in c:\\users\\caplogy_data_002\\anaconda3\\lib\\site-packages (from datefinder>=0.7.0->pycaret==2.0) (2.8.2)\n",
      "Requirement already satisfied: pytz in c:\\users\\caplogy_data_002\\anaconda3\\lib\\site-packages (from datefinder>=0.7.0->pycaret==2.0) (2022.7)\n",
      "Requirement already satisfied: zope.interface in c:\\users\\caplogy_data_002\\anaconda3\\lib\\site-packages (from DateTime>=4.3->pycaret==2.0) (5.4.0)\n",
      "Requirement already satisfied: backcall in c:\\users\\caplogy_data_002\\appdata\\roaming\\python\\python311\\site-packages (from IPython->pycaret==2.0) (0.2.0)\n",
      "Requirement already satisfied: decorator in c:\\users\\caplogy_data_002\\anaconda3\\lib\\site-packages (from IPython->pycaret==2.0) (5.1.1)\n",
      "Requirement already satisfied: jedi>=0.16 in c:\\users\\caplogy_data_002\\appdata\\roaming\\python\\python311\\site-packages (from IPython->pycaret==2.0) (0.18.2)\n",
      "Requirement already satisfied: matplotlib-inline in c:\\users\\caplogy_data_002\\appdata\\roaming\\python\\python311\\site-packages (from IPython->pycaret==2.0) (0.1.6)\n",
      "Requirement already satisfied: pickleshare in c:\\users\\caplogy_data_002\\appdata\\roaming\\python\\python311\\site-packages (from IPython->pycaret==2.0) (0.7.5)\n",
      "Requirement already satisfied: prompt-toolkit!=3.0.37,<3.1.0,>=3.0.30 in c:\\users\\caplogy_data_002\\appdata\\roaming\\python\\python311\\site-packages (from IPython->pycaret==2.0) (3.0.39)\n",
      "Requirement already satisfied: pygments>=2.4.0 in c:\\users\\caplogy_data_002\\anaconda3\\lib\\site-packages (from IPython->pycaret==2.0) (2.15.1)\n",
      "Requirement already satisfied: stack-data in c:\\users\\caplogy_data_002\\appdata\\roaming\\python\\python311\\site-packages (from IPython->pycaret==2.0) (0.6.2)\n",
      "Requirement already satisfied: traitlets>=5 in c:\\users\\caplogy_data_002\\appdata\\roaming\\python\\python311\\site-packages (from IPython->pycaret==2.0) (5.9.0)\n",
      "Requirement already satisfied: colorama in c:\\users\\caplogy_data_002\\anaconda3\\lib\\site-packages (from IPython->pycaret==2.0) (0.4.6)\n",
      "Requirement already satisfied: ipykernel>=4.5.1 in c:\\users\\caplogy_data_002\\appdata\\roaming\\python\\python311\\site-packages (from ipywidgets->pycaret==2.0) (6.24.0)\n",
      "Requirement already satisfied: widgetsnbextension~=4.0.7 in c:\\users\\caplogy_data_002\\appdata\\roaming\\python\\python311\\site-packages (from ipywidgets->pycaret==2.0) (4.0.8)\n",
      "Requirement already satisfied: jupyterlab-widgets~=3.0.7 in c:\\users\\caplogy_data_002\\appdata\\roaming\\python\\python311\\site-packages (from ipywidgets->pycaret==2.0) (3.0.8)\n",
      "Requirement already satisfied: scipy>=0.13.3 in c:\\users\\caplogy_data_002\\anaconda3\\lib\\site-packages (from kmodes>=0.10.1->pycaret==2.0) (1.10.1)\n",
      "Collecting joblib (from pycaret==2.0)\n",
      "  Using cached joblib-1.1.1-py2.py3-none-any.whl (309 kB)\n",
      "Collecting pydantic>=1.8.1 (from pandas-profiling>=2.8.0->pycaret==2.0)\n",
      "  Using cached pydantic-2.3.0-py3-none-any.whl (374 kB)\n",
      "Requirement already satisfied: PyYAML>=5.0.0 in c:\\users\\caplogy_data_002\\appdata\\roaming\\python\\python311\\site-packages (from pandas-profiling>=2.8.0->pycaret==2.0) (6.0.1)\n",
      "Requirement already satisfied: jinja2>=2.11.1 in c:\\users\\caplogy_data_002\\anaconda3\\lib\\site-packages (from pandas-profiling>=2.8.0->pycaret==2.0) (3.1.2)\n",
      "Requirement already satisfied: markupsafe~=2.1.1 in c:\\users\\caplogy_data_002\\anaconda3\\lib\\site-packages (from pandas-profiling>=2.8.0->pycaret==2.0) (2.1.1)\n",
      "Collecting visions[type_image_path]==0.7.4 (from pandas-profiling>=2.8.0->pycaret==2.0)\n",
      "  Using cached visions-0.7.4-py3-none-any.whl (102 kB)\n",
      "Collecting htmlmin>=0.1.12 (from pandas-profiling>=2.8.0->pycaret==2.0)\n",
      "  Using cached htmlmin-0.1.12.tar.gz (19 kB)\n",
      "  Preparing metadata (setup.py): started\n",
      "  Preparing metadata (setup.py): finished with status 'done'\n",
      "Collecting missingno>=0.4.2 (from pandas-profiling>=2.8.0->pycaret==2.0)\n",
      "  Using cached missingno-0.5.2-py3-none-any.whl (8.7 kB)\n",
      "Collecting phik>=0.11.1 (from pandas-profiling>=2.8.0->pycaret==2.0)\n",
      "  Using cached phik-0.12.3-cp311-cp311-win_amd64.whl (663 kB)\n",
      "Collecting tangled-up-in-unicode==0.2.0 (from pandas-profiling>=2.8.0->pycaret==2.0)\n",
      "  Using cached tangled_up_in_unicode-0.2.0-py3-none-any.whl (4.7 MB)\n",
      "Requirement already satisfied: requests>=2.24.0 in c:\\users\\caplogy_data_002\\appdata\\roaming\\python\\python311\\site-packages (from pandas-profiling>=2.8.0->pycaret==2.0) (2.31.0)\n",
      "Requirement already satisfied: tqdm>=4.48.2 in c:\\users\\caplogy_data_002\\anaconda3\\lib\\site-packages (from pandas-profiling>=2.8.0->pycaret==2.0) (4.65.0)\n",
      "Collecting multimethod>=1.4 (from pandas-profiling>=2.8.0->pycaret==2.0)\n",
      "  Using cached multimethod-1.9.1-py3-none-any.whl (10 kB)\n",
      "Requirement already satisfied: attrs>=19.3.0 in c:\\users\\caplogy_data_002\\appdata\\roaming\\python\\python311\\site-packages (from visions[type_image_path]==0.7.4->pandas-profiling>=2.8.0->pycaret==2.0) (23.1.0)\n",
      "Requirement already satisfied: networkx>=2.4 in c:\\users\\caplogy_data_002\\anaconda3\\lib\\site-packages (from visions[type_image_path]==0.7.4->pandas-profiling>=2.8.0->pycaret==2.0) (3.1)\n",
      "Collecting imagehash (from visions[type_image_path]==0.7.4->pandas-profiling>=2.8.0->pycaret==2.0)\n",
      "  Using cached ImageHash-4.3.1-py2.py3-none-any.whl (296 kB)\n",
      "Requirement already satisfied: Pillow in c:\\users\\caplogy_data_002\\anaconda3\\lib\\site-packages (from visions[type_image_path]==0.7.4->pandas-profiling>=2.8.0->pycaret==2.0) (9.4.0)\n",
      "Requirement already satisfied: contourpy>=1.0.1 in c:\\users\\caplogy_data_002\\anaconda3\\lib\\site-packages (from matplotlib->pycaret==2.0) (1.0.5)\n",
      "Requirement already satisfied: cycler>=0.10 in c:\\users\\caplogy_data_002\\anaconda3\\lib\\site-packages (from matplotlib->pycaret==2.0) (0.11.0)\n",
      "Requirement already satisfied: fonttools>=4.22.0 in c:\\users\\caplogy_data_002\\anaconda3\\lib\\site-packages (from matplotlib->pycaret==2.0) (4.25.0)\n",
      "Requirement already satisfied: kiwisolver>=1.0.1 in c:\\users\\caplogy_data_002\\anaconda3\\lib\\site-packages (from matplotlib->pycaret==2.0) (1.4.4)\n",
      "Requirement already satisfied: packaging>=20.0 in c:\\users\\caplogy_data_002\\anaconda3\\lib\\site-packages (from matplotlib->pycaret==2.0) (21.3)\n",
      "Requirement already satisfied: pyparsing>=2.3.1 in c:\\users\\caplogy_data_002\\anaconda3\\lib\\site-packages (from matplotlib->pycaret==2.0) (3.0.9)\n",
      "Requirement already satisfied: tenacity>=6.2.0 in c:\\users\\caplogy_data_002\\anaconda3\\lib\\site-packages (from plotly>=4.4.1->pycaret==2.0) (8.2.2)\n",
      "Requirement already satisfied: threadpoolctl>=2.0.0 in c:\\users\\caplogy_data_002\\anaconda3\\lib\\site-packages (from scikit-learn>=0.23->pycaret==2.0) (2.2.0)\n",
      "Collecting graphviz (from catboost->pycaret==2.0)\n",
      "  Using cached graphviz-0.20.1-py3-none-any.whl (47 kB)\n",
      "Requirement already satisfied: smart-open>=1.8.1 in c:\\users\\caplogy_data_002\\anaconda3\\lib\\site-packages (from gensim->pycaret==2.0) (5.2.1)\n",
      "Collecting FuzzyTM>=0.4.0 (from gensim->pycaret==2.0)\n",
      "  Using cached FuzzyTM-2.0.5-py3-none-any.whl (29 kB)\n",
      "Requirement already satisfied: click<9,>=7.0 in c:\\users\\caplogy_data_002\\anaconda3\\lib\\site-packages (from mlflow->pycaret==2.0) (8.1.7)\n",
      "Requirement already satisfied: cloudpickle<3 in c:\\users\\caplogy_data_002\\anaconda3\\lib\\site-packages (from mlflow->pycaret==2.0) (2.2.1)\n",
      "Requirement already satisfied: databricks-cli<1,>=0.8.7 in c:\\users\\caplogy_data_002\\anaconda3\\lib\\site-packages (from mlflow->pycaret==2.0) (0.17.7)\n",
      "Requirement already satisfied: entrypoints<1 in c:\\users\\caplogy_data_002\\anaconda3\\lib\\site-packages (from mlflow->pycaret==2.0) (0.4)\n",
      "Requirement already satisfied: gitpython<4,>=2.1.0 in c:\\users\\caplogy_data_002\\anaconda3\\lib\\site-packages (from mlflow->pycaret==2.0) (3.1.32)\n",
      "Requirement already satisfied: protobuf<5,>=3.12.0 in c:\\users\\caplogy_data_002\\anaconda3\\lib\\site-packages (from mlflow->pycaret==2.0) (4.24.0)\n",
      "Requirement already satisfied: importlib-metadata!=4.7.0,<6,>=3.7.0 in c:\\users\\caplogy_data_002\\anaconda3\\lib\\site-packages (from mlflow->pycaret==2.0) (5.2.0)\n",
      "Requirement already satisfied: sqlparse<1,>=0.4.0 in c:\\users\\caplogy_data_002\\anaconda3\\lib\\site-packages (from mlflow->pycaret==2.0) (0.4.4)\n",
      "Requirement already satisfied: alembic<2 in c:\\users\\caplogy_data_002\\anaconda3\\lib\\site-packages (from mlflow->pycaret==2.0) (1.11.3)\n",
      "Requirement already satisfied: docker<7,>=4.0.0 in c:\\users\\caplogy_data_002\\anaconda3\\lib\\site-packages (from mlflow->pycaret==2.0) (6.1.3)\n",
      "Requirement already satisfied: Flask<3 in c:\\users\\caplogy_data_002\\anaconda3\\lib\\site-packages (from mlflow->pycaret==2.0) (2.2.2)\n",
      "Requirement already satisfied: querystring-parser<2 in c:\\users\\caplogy_data_002\\anaconda3\\lib\\site-packages (from mlflow->pycaret==2.0) (1.2.4)\n",
      "Requirement already satisfied: sqlalchemy<2,>=1.4.0 in c:\\users\\caplogy_data_002\\anaconda3\\lib\\site-packages (from mlflow->pycaret==2.0) (1.4.39)\n",
      "Requirement already satisfied: pyarrow<11,>=4.0.0 in c:\\users\\caplogy_data_002\\anaconda3\\lib\\site-packages (from mlflow->pycaret==2.0) (10.0.1)\n",
      "Requirement already satisfied: shap<1,>=0.40 in c:\\users\\caplogy_data_002\\anaconda3\\lib\\site-packages (from mlflow->pycaret==2.0) (0.42.1)\n",
      "Requirement already satisfied: markdown<4,>=3.3 in c:\\users\\caplogy_data_002\\anaconda3\\lib\\site-packages (from mlflow->pycaret==2.0) (3.4.1)\n",
      "Requirement already satisfied: waitress<3 in c:\\users\\caplogy_data_002\\anaconda3\\lib\\site-packages (from mlflow->pycaret==2.0) (2.1.2)\n",
      "INFO: pip is looking at multiple versions of pyldavis to determine which version is compatible with other requirements. This could take a while.\n",
      "Collecting pyLDAvis (from pycaret==2.0)\n",
      "  Using cached pyLDAvis-3.4.0-py3-none-any.whl (2.6 MB)\n",
      "  Using cached pyLDAvis-3.3.1.tar.gz (1.7 MB)\n",
      "  Installing build dependencies: started\n",
      "  Installing build dependencies: finished with status 'done'\n",
      "  Getting requirements to build wheel: started\n",
      "  Getting requirements to build wheel: finished with status 'done'\n",
      "  Installing backend dependencies: started\n",
      "  Installing backend dependencies: finished with status 'done'\n",
      "  Preparing metadata (pyproject.toml): started\n",
      "  Preparing metadata (pyproject.toml): finished with status 'done'\n",
      "Requirement already satisfied: numexpr in c:\\users\\caplogy_data_002\\anaconda3\\lib\\site-packages (from pyLDAvis->pycaret==2.0) (2.8.4)\n",
      "Requirement already satisfied: future in c:\\users\\caplogy_data_002\\anaconda3\\lib\\site-packages (from pyLDAvis->pycaret==2.0) (0.18.3)\n",
      "Requirement already satisfied: funcy in c:\\users\\caplogy_data_002\\anaconda3\\lib\\site-packages (from pyLDAvis->pycaret==2.0) (2.0)\n",
      "Collecting sklearn (from pyLDAvis->pycaret==2.0)\n",
      "  Using cached sklearn-0.0.post7.tar.gz (3.6 kB)\n",
      "  Preparing metadata (setup.py): started\n",
      "  Preparing metadata (setup.py): finished with status 'error'\n"
     ]
    },
    {
     "name": "stderr",
     "output_type": "stream",
     "text": [
      "  Running command git clone --filter=blob:none --quiet https://github.com/amjadraza/pycaret.git 'C:\\Users\\Caplogy_Data_002\\AppData\\Local\\Temp\\pip-req-build-0vtmc6o5'\n",
      "  Running command git checkout -b feature/gcp_azure_np_docs --track origin/feature/gcp_azure_np_docs\n",
      "  branch 'feature/gcp_azure_np_docs' set up to track 'origin/feature/gcp_azure_np_docs'.\n",
      "  Switched to a new branch 'feature/gcp_azure_np_docs'\n",
      "  error: subprocess-exited-with-error\n",
      "  \n",
      "  python setup.py egg_info did not run successfully.\n",
      "  exit code: 1\n",
      "  \n",
      "  [18 lines of output]\n",
      "  The 'sklearn' PyPI package is deprecated, use 'scikit-learn'\n",
      "  rather than 'sklearn' for pip commands.\n",
      "  \n",
      "  Here is how to fix this error in the main use cases:\n",
      "  - use 'pip install scikit-learn' rather than 'pip install sklearn'\n",
      "  - replace 'sklearn' by 'scikit-learn' in your pip requirements files\n",
      "    (requirements.txt, setup.py, setup.cfg, Pipfile, etc ...)\n",
      "  - if the 'sklearn' package is used by one of your dependencies,\n",
      "    it would be great if you take some time to track which package uses\n",
      "    'sklearn' instead of 'scikit-learn' and report it to their issue tracker\n",
      "  - as a last resort, set the environment variable\n",
      "    SKLEARN_ALLOW_DEPRECATED_SKLEARN_PACKAGE_INSTALL=True to avoid this error\n",
      "  \n",
      "  More information is available at\n",
      "  https://github.com/scikit-learn/sklearn-pypi-package\n",
      "  \n",
      "  If the previous advice does not cover your use case, feel free to report it at\n",
      "  https://github.com/scikit-learn/sklearn-pypi-package/issues/new\n",
      "  [end of output]\n",
      "  \n",
      "  note: This error originates from a subprocess, and is likely not a problem with pip.\n",
      "error: metadata-generation-failed\n",
      "\n",
      "Encountered error while generating package metadata.\n",
      "\n",
      "See above for output.\n",
      "\n",
      "note: This is an issue with the package mentioned above, not pip.\n",
      "hint: See above for details.\n"
     ]
    }
   ],
   "source": [
    "!pip install git+https://github.com/amjadraza/pycaret.git@feature/gcp_azure_np_docs"
   ]
  },
  {
   "cell_type": "markdown",
   "metadata": {},
   "source": [
    "### Model Development"
   ]
  },
  {
   "cell_type": "code",
   "execution_count": 8,
   "metadata": {
    "colab": {
     "base_uri": "https://localhost:8080/",
     "height": 204
    },
    "colab_type": "code",
    "id": "lUvE187JEQm3",
    "outputId": "e6083dca-71b1-40b6-fc25-3256960e4dfb",
    "scrolled": true
   },
   "outputs": [
    {
     "data": {
      "text/html": [
       "<div>\n",
       "<style scoped>\n",
       "    .dataframe tbody tr th:only-of-type {\n",
       "        vertical-align: middle;\n",
       "    }\n",
       "\n",
       "    .dataframe tbody tr th {\n",
       "        vertical-align: top;\n",
       "    }\n",
       "\n",
       "    .dataframe thead th {\n",
       "        text-align: right;\n",
       "    }\n",
       "</style>\n",
       "<table border=\"1\" class=\"dataframe\">\n",
       "  <thead>\n",
       "    <tr style=\"text-align: right;\">\n",
       "      <th></th>\n",
       "      <th>Carat Weight</th>\n",
       "      <th>Cut</th>\n",
       "      <th>Color</th>\n",
       "      <th>Clarity</th>\n",
       "      <th>Polish</th>\n",
       "      <th>Symmetry</th>\n",
       "      <th>Report</th>\n",
       "      <th>Price</th>\n",
       "    </tr>\n",
       "  </thead>\n",
       "  <tbody>\n",
       "    <tr>\n",
       "      <th>0</th>\n",
       "      <td>1.10</td>\n",
       "      <td>Ideal</td>\n",
       "      <td>H</td>\n",
       "      <td>SI1</td>\n",
       "      <td>VG</td>\n",
       "      <td>EX</td>\n",
       "      <td>GIA</td>\n",
       "      <td>5169</td>\n",
       "    </tr>\n",
       "    <tr>\n",
       "      <th>1</th>\n",
       "      <td>0.83</td>\n",
       "      <td>Ideal</td>\n",
       "      <td>H</td>\n",
       "      <td>VS1</td>\n",
       "      <td>ID</td>\n",
       "      <td>ID</td>\n",
       "      <td>AGSL</td>\n",
       "      <td>3470</td>\n",
       "    </tr>\n",
       "    <tr>\n",
       "      <th>2</th>\n",
       "      <td>0.85</td>\n",
       "      <td>Ideal</td>\n",
       "      <td>H</td>\n",
       "      <td>SI1</td>\n",
       "      <td>EX</td>\n",
       "      <td>EX</td>\n",
       "      <td>GIA</td>\n",
       "      <td>3183</td>\n",
       "    </tr>\n",
       "    <tr>\n",
       "      <th>3</th>\n",
       "      <td>0.91</td>\n",
       "      <td>Ideal</td>\n",
       "      <td>E</td>\n",
       "      <td>SI1</td>\n",
       "      <td>VG</td>\n",
       "      <td>VG</td>\n",
       "      <td>GIA</td>\n",
       "      <td>4370</td>\n",
       "    </tr>\n",
       "    <tr>\n",
       "      <th>4</th>\n",
       "      <td>0.83</td>\n",
       "      <td>Ideal</td>\n",
       "      <td>G</td>\n",
       "      <td>SI1</td>\n",
       "      <td>EX</td>\n",
       "      <td>EX</td>\n",
       "      <td>GIA</td>\n",
       "      <td>3171</td>\n",
       "    </tr>\n",
       "  </tbody>\n",
       "</table>\n",
       "</div>"
      ],
      "text/plain": [
       "   Carat Weight    Cut Color Clarity Polish Symmetry Report  Price\n",
       "0          1.10  Ideal     H     SI1     VG       EX    GIA   5169\n",
       "1          0.83  Ideal     H     VS1     ID       ID   AGSL   3470\n",
       "2          0.85  Ideal     H     SI1     EX       EX    GIA   3183\n",
       "3          0.91  Ideal     E     SI1     VG       VG    GIA   4370\n",
       "4          0.83  Ideal     G     SI1     EX       EX    GIA   3171"
      ]
     },
     "metadata": {},
     "output_type": "display_data"
    }
   ],
   "source": [
    "from pycaret.datasets import get_data\n",
    "dataset = get_data('diamond')"
   ]
  },
  {
   "cell_type": "code",
   "execution_count": 9,
   "metadata": {
    "colab": {
     "base_uri": "https://localhost:8080/",
     "height": 53
    },
    "colab_type": "code",
    "id": "hXmaL1xFEQnj",
    "outputId": "da4af24e-212b-4c5f-a4ba-42dbbd7a2953"
   },
   "outputs": [
    {
     "name": "stdout",
     "output_type": "stream",
     "text": [
      "Data for Modeling: (5700, 8)\n",
      "Unseen Data For Predictions: (300, 8)\n"
     ]
    }
   ],
   "source": [
    "data = dataset.sample(frac=0.95, random_state=786).reset_index(drop=True)\n",
    "data_unseen = dataset.drop(data.index).reset_index(drop=True)\n",
    "\n",
    "print('Data for Modeling: ' + str(data.shape))\n",
    "print('Unseen Data For Predictions: ' + str(data_unseen.shape))"
   ]
  },
  {
   "cell_type": "code",
   "execution_count": 11,
   "metadata": {
    "colab": {
     "base_uri": "https://localhost:8080/",
     "height": 958,
     "referenced_widgets": [
      "efaff962f0a94c8d8f5d06311e023506",
      "c2e2060613d444078b48b60e30a112e7",
      "09690916f8634c01b8b289d83119e178",
      "dbb0c8ed8d2f4b37a492d777d1cfcd48",
      "5db0cd1626b044b6ada0e461e2d7c94b",
      "8a5e8367e06b49dcbe1550b7ce9a8380"
     ]
    },
    "colab_type": "code",
    "id": "3sXuMNuqG6PG",
    "outputId": "0bd58ff5-896d-4656-96c4-535089378636"
   },
   "outputs": [
    {
     "data": {
      "text/html": [
       "<style type=\"text/css\">\n",
       "#T_ff103_row10_col1 {\n",
       "  background-color: lightgreen;\n",
       "}\n",
       "</style>\n",
       "<table id=\"T_ff103\">\n",
       "  <thead>\n",
       "    <tr>\n",
       "      <th class=\"blank level0\" >&nbsp;</th>\n",
       "      <th id=\"T_ff103_level0_col0\" class=\"col_heading level0 col0\" >Description</th>\n",
       "      <th id=\"T_ff103_level0_col1\" class=\"col_heading level0 col1\" >Value</th>\n",
       "    </tr>\n",
       "  </thead>\n",
       "  <tbody>\n",
       "    <tr>\n",
       "      <th id=\"T_ff103_level0_row0\" class=\"row_heading level0 row0\" >0</th>\n",
       "      <td id=\"T_ff103_row0_col0\" class=\"data row0 col0\" >Session id</td>\n",
       "      <td id=\"T_ff103_row0_col1\" class=\"data row0 col1\" >123</td>\n",
       "    </tr>\n",
       "    <tr>\n",
       "      <th id=\"T_ff103_level0_row1\" class=\"row_heading level0 row1\" >1</th>\n",
       "      <td id=\"T_ff103_row1_col0\" class=\"data row1 col0\" >Target</td>\n",
       "      <td id=\"T_ff103_row1_col1\" class=\"data row1 col1\" >Price</td>\n",
       "    </tr>\n",
       "    <tr>\n",
       "      <th id=\"T_ff103_level0_row2\" class=\"row_heading level0 row2\" >2</th>\n",
       "      <td id=\"T_ff103_row2_col0\" class=\"data row2 col0\" >Target type</td>\n",
       "      <td id=\"T_ff103_row2_col1\" class=\"data row2 col1\" >Regression</td>\n",
       "    </tr>\n",
       "    <tr>\n",
       "      <th id=\"T_ff103_level0_row3\" class=\"row_heading level0 row3\" >3</th>\n",
       "      <td id=\"T_ff103_row3_col0\" class=\"data row3 col0\" >Original data shape</td>\n",
       "      <td id=\"T_ff103_row3_col1\" class=\"data row3 col1\" >(5700, 8)</td>\n",
       "    </tr>\n",
       "    <tr>\n",
       "      <th id=\"T_ff103_level0_row4\" class=\"row_heading level0 row4\" >4</th>\n",
       "      <td id=\"T_ff103_row4_col0\" class=\"data row4 col0\" >Transformed data shape</td>\n",
       "      <td id=\"T_ff103_row4_col1\" class=\"data row4 col1\" >(5700, 29)</td>\n",
       "    </tr>\n",
       "    <tr>\n",
       "      <th id=\"T_ff103_level0_row5\" class=\"row_heading level0 row5\" >5</th>\n",
       "      <td id=\"T_ff103_row5_col0\" class=\"data row5 col0\" >Transformed train set shape</td>\n",
       "      <td id=\"T_ff103_row5_col1\" class=\"data row5 col1\" >(3989, 29)</td>\n",
       "    </tr>\n",
       "    <tr>\n",
       "      <th id=\"T_ff103_level0_row6\" class=\"row_heading level0 row6\" >6</th>\n",
       "      <td id=\"T_ff103_row6_col0\" class=\"data row6 col0\" >Transformed test set shape</td>\n",
       "      <td id=\"T_ff103_row6_col1\" class=\"data row6 col1\" >(1711, 29)</td>\n",
       "    </tr>\n",
       "    <tr>\n",
       "      <th id=\"T_ff103_level0_row7\" class=\"row_heading level0 row7\" >7</th>\n",
       "      <td id=\"T_ff103_row7_col0\" class=\"data row7 col0\" >Ordinal features</td>\n",
       "      <td id=\"T_ff103_row7_col1\" class=\"data row7 col1\" >1</td>\n",
       "    </tr>\n",
       "    <tr>\n",
       "      <th id=\"T_ff103_level0_row8\" class=\"row_heading level0 row8\" >8</th>\n",
       "      <td id=\"T_ff103_row8_col0\" class=\"data row8 col0\" >Numeric features</td>\n",
       "      <td id=\"T_ff103_row8_col1\" class=\"data row8 col1\" >1</td>\n",
       "    </tr>\n",
       "    <tr>\n",
       "      <th id=\"T_ff103_level0_row9\" class=\"row_heading level0 row9\" >9</th>\n",
       "      <td id=\"T_ff103_row9_col0\" class=\"data row9 col0\" >Categorical features</td>\n",
       "      <td id=\"T_ff103_row9_col1\" class=\"data row9 col1\" >6</td>\n",
       "    </tr>\n",
       "    <tr>\n",
       "      <th id=\"T_ff103_level0_row10\" class=\"row_heading level0 row10\" >10</th>\n",
       "      <td id=\"T_ff103_row10_col0\" class=\"data row10 col0\" >Preprocess</td>\n",
       "      <td id=\"T_ff103_row10_col1\" class=\"data row10 col1\" >True</td>\n",
       "    </tr>\n",
       "    <tr>\n",
       "      <th id=\"T_ff103_level0_row11\" class=\"row_heading level0 row11\" >11</th>\n",
       "      <td id=\"T_ff103_row11_col0\" class=\"data row11 col0\" >Imputation type</td>\n",
       "      <td id=\"T_ff103_row11_col1\" class=\"data row11 col1\" >simple</td>\n",
       "    </tr>\n",
       "    <tr>\n",
       "      <th id=\"T_ff103_level0_row12\" class=\"row_heading level0 row12\" >12</th>\n",
       "      <td id=\"T_ff103_row12_col0\" class=\"data row12 col0\" >Numeric imputation</td>\n",
       "      <td id=\"T_ff103_row12_col1\" class=\"data row12 col1\" >mean</td>\n",
       "    </tr>\n",
       "    <tr>\n",
       "      <th id=\"T_ff103_level0_row13\" class=\"row_heading level0 row13\" >13</th>\n",
       "      <td id=\"T_ff103_row13_col0\" class=\"data row13 col0\" >Categorical imputation</td>\n",
       "      <td id=\"T_ff103_row13_col1\" class=\"data row13 col1\" >mode</td>\n",
       "    </tr>\n",
       "    <tr>\n",
       "      <th id=\"T_ff103_level0_row14\" class=\"row_heading level0 row14\" >14</th>\n",
       "      <td id=\"T_ff103_row14_col0\" class=\"data row14 col0\" >Maximum one-hot encoding</td>\n",
       "      <td id=\"T_ff103_row14_col1\" class=\"data row14 col1\" >25</td>\n",
       "    </tr>\n",
       "    <tr>\n",
       "      <th id=\"T_ff103_level0_row15\" class=\"row_heading level0 row15\" >15</th>\n",
       "      <td id=\"T_ff103_row15_col0\" class=\"data row15 col0\" >Encoding method</td>\n",
       "      <td id=\"T_ff103_row15_col1\" class=\"data row15 col1\" >None</td>\n",
       "    </tr>\n",
       "    <tr>\n",
       "      <th id=\"T_ff103_level0_row16\" class=\"row_heading level0 row16\" >16</th>\n",
       "      <td id=\"T_ff103_row16_col0\" class=\"data row16 col0\" >Fold Generator</td>\n",
       "      <td id=\"T_ff103_row16_col1\" class=\"data row16 col1\" >KFold</td>\n",
       "    </tr>\n",
       "    <tr>\n",
       "      <th id=\"T_ff103_level0_row17\" class=\"row_heading level0 row17\" >17</th>\n",
       "      <td id=\"T_ff103_row17_col0\" class=\"data row17 col0\" >Fold Number</td>\n",
       "      <td id=\"T_ff103_row17_col1\" class=\"data row17 col1\" >10</td>\n",
       "    </tr>\n",
       "    <tr>\n",
       "      <th id=\"T_ff103_level0_row18\" class=\"row_heading level0 row18\" >18</th>\n",
       "      <td id=\"T_ff103_row18_col0\" class=\"data row18 col0\" >CPU Jobs</td>\n",
       "      <td id=\"T_ff103_row18_col1\" class=\"data row18 col1\" >-1</td>\n",
       "    </tr>\n",
       "    <tr>\n",
       "      <th id=\"T_ff103_level0_row19\" class=\"row_heading level0 row19\" >19</th>\n",
       "      <td id=\"T_ff103_row19_col0\" class=\"data row19 col0\" >Use GPU</td>\n",
       "      <td id=\"T_ff103_row19_col1\" class=\"data row19 col1\" >False</td>\n",
       "    </tr>\n",
       "    <tr>\n",
       "      <th id=\"T_ff103_level0_row20\" class=\"row_heading level0 row20\" >20</th>\n",
       "      <td id=\"T_ff103_row20_col0\" class=\"data row20 col0\" >Log Experiment</td>\n",
       "      <td id=\"T_ff103_row20_col1\" class=\"data row20 col1\" >False</td>\n",
       "    </tr>\n",
       "    <tr>\n",
       "      <th id=\"T_ff103_level0_row21\" class=\"row_heading level0 row21\" >21</th>\n",
       "      <td id=\"T_ff103_row21_col0\" class=\"data row21 col0\" >Experiment Name</td>\n",
       "      <td id=\"T_ff103_row21_col1\" class=\"data row21 col1\" >reg-default-name</td>\n",
       "    </tr>\n",
       "    <tr>\n",
       "      <th id=\"T_ff103_level0_row22\" class=\"row_heading level0 row22\" >22</th>\n",
       "      <td id=\"T_ff103_row22_col0\" class=\"data row22 col0\" >USI</td>\n",
       "      <td id=\"T_ff103_row22_col1\" class=\"data row22 col1\" >a5ba</td>\n",
       "    </tr>\n",
       "  </tbody>\n",
       "</table>\n"
      ],
      "text/plain": [
       "<pandas.io.formats.style.Styler at 0x2a7dc8e5a30>"
      ]
     },
     "metadata": {},
     "output_type": "display_data"
    }
   ],
   "source": [
    "from pycaret.regression import *\n",
    "exp_reg101 = setup(\n",
    "    data = data, \n",
    "    target = 'Price', \n",
    "    session_id=123,\n",
    "    #silent = True\n",
    "                  )"
   ]
  },
  {
   "cell_type": "code",
   "execution_count": 12,
   "metadata": {
    "colab": {
     "base_uri": "https://localhost:8080/",
     "height": 292,
     "referenced_widgets": [
      "f82b0cd6d54b427ea21cf2a5b2958c21",
      "0f57ccbc1ce543ad9b7d837c7fe03595",
      "2dae5a1a055343ea88a268f14cc53a49"
     ]
    },
    "colab_type": "code",
    "id": "FGCoUiQpEQpz",
    "outputId": "79640529-8cdd-4875-b6c7-ce0544252663"
   },
   "outputs": [
    {
     "data": {
      "text/html": [],
      "text/plain": [
       "<IPython.core.display.HTML object>"
      ]
     },
     "metadata": {},
     "output_type": "display_data"
    },
    {
     "data": {
      "text/html": [
       "<style type=\"text/css\">\n",
       "#T_e9468_row10_col0, #T_e9468_row10_col1, #T_e9468_row10_col2, #T_e9468_row10_col3, #T_e9468_row10_col4, #T_e9468_row10_col5 {\n",
       "  background: yellow;\n",
       "}\n",
       "</style>\n",
       "<table id=\"T_e9468\">\n",
       "  <thead>\n",
       "    <tr>\n",
       "      <th class=\"blank level0\" >&nbsp;</th>\n",
       "      <th id=\"T_e9468_level0_col0\" class=\"col_heading level0 col0\" >MAE</th>\n",
       "      <th id=\"T_e9468_level0_col1\" class=\"col_heading level0 col1\" >MSE</th>\n",
       "      <th id=\"T_e9468_level0_col2\" class=\"col_heading level0 col2\" >RMSE</th>\n",
       "      <th id=\"T_e9468_level0_col3\" class=\"col_heading level0 col3\" >R2</th>\n",
       "      <th id=\"T_e9468_level0_col4\" class=\"col_heading level0 col4\" >RMSLE</th>\n",
       "      <th id=\"T_e9468_level0_col5\" class=\"col_heading level0 col5\" >MAPE</th>\n",
       "    </tr>\n",
       "    <tr>\n",
       "      <th class=\"index_name level0\" >Fold</th>\n",
       "      <th class=\"blank col0\" >&nbsp;</th>\n",
       "      <th class=\"blank col1\" >&nbsp;</th>\n",
       "      <th class=\"blank col2\" >&nbsp;</th>\n",
       "      <th class=\"blank col3\" >&nbsp;</th>\n",
       "      <th class=\"blank col4\" >&nbsp;</th>\n",
       "      <th class=\"blank col5\" >&nbsp;</th>\n",
       "    </tr>\n",
       "  </thead>\n",
       "  <tbody>\n",
       "    <tr>\n",
       "      <th id=\"T_e9468_level0_row0\" class=\"row_heading level0 row0\" >0</th>\n",
       "      <td id=\"T_e9468_row0_col0\" class=\"data row0 col0\" >764.4776</td>\n",
       "      <td id=\"T_e9468_row0_col1\" class=\"data row0 col1\" >3694398.5693</td>\n",
       "      <td id=\"T_e9468_row0_col2\" class=\"data row0 col2\" >1922.0818</td>\n",
       "      <td id=\"T_e9468_row0_col3\" class=\"data row0 col3\" >0.9700</td>\n",
       "      <td id=\"T_e9468_row0_col4\" class=\"data row0 col4\" >0.0729</td>\n",
       "      <td id=\"T_e9468_row0_col5\" class=\"data row0 col5\" >0.0524</td>\n",
       "    </tr>\n",
       "    <tr>\n",
       "      <th id=\"T_e9468_level0_row1\" class=\"row_heading level0 row1\" >1</th>\n",
       "      <td id=\"T_e9468_row1_col0\" class=\"data row1 col0\" >951.5729</td>\n",
       "      <td id=\"T_e9468_row1_col1\" class=\"data row1 col1\" >7114848.9941</td>\n",
       "      <td id=\"T_e9468_row1_col2\" class=\"data row1 col2\" >2667.3674</td>\n",
       "      <td id=\"T_e9468_row1_col3\" class=\"data row1 col3\" >0.9425</td>\n",
       "      <td id=\"T_e9468_row1_col4\" class=\"data row1 col4\" >0.0843</td>\n",
       "      <td id=\"T_e9468_row1_col5\" class=\"data row1 col5\" >0.0588</td>\n",
       "    </tr>\n",
       "    <tr>\n",
       "      <th id=\"T_e9468_level0_row2\" class=\"row_heading level0 row2\" >2</th>\n",
       "      <td id=\"T_e9468_row2_col0\" class=\"data row2 col0\" >853.0754</td>\n",
       "      <td id=\"T_e9468_row2_col1\" class=\"data row2 col1\" >5146743.2184</td>\n",
       "      <td id=\"T_e9468_row2_col2\" class=\"data row2 col2\" >2268.6435</td>\n",
       "      <td id=\"T_e9468_row2_col3\" class=\"data row2 col3\" >0.9578</td>\n",
       "      <td id=\"T_e9468_row2_col4\" class=\"data row2 col4\" >0.0834</td>\n",
       "      <td id=\"T_e9468_row2_col5\" class=\"data row2 col5\" >0.0610</td>\n",
       "    </tr>\n",
       "    <tr>\n",
       "      <th id=\"T_e9468_level0_row3\" class=\"row_heading level0 row3\" >3</th>\n",
       "      <td id=\"T_e9468_row3_col0\" class=\"data row3 col0\" >699.4826</td>\n",
       "      <td id=\"T_e9468_row3_col1\" class=\"data row3 col1\" >1730518.0345</td>\n",
       "      <td id=\"T_e9468_row3_col2\" class=\"data row3 col2\" >1315.4916</td>\n",
       "      <td id=\"T_e9468_row3_col3\" class=\"data row3 col3\" >0.9811</td>\n",
       "      <td id=\"T_e9468_row3_col4\" class=\"data row3 col4\" >0.0766</td>\n",
       "      <td id=\"T_e9468_row3_col5\" class=\"data row3 col5\" >0.0557</td>\n",
       "    </tr>\n",
       "    <tr>\n",
       "      <th id=\"T_e9468_level0_row4\" class=\"row_heading level0 row4\" >4</th>\n",
       "      <td id=\"T_e9468_row4_col0\" class=\"data row4 col0\" >633.4070</td>\n",
       "      <td id=\"T_e9468_row4_col1\" class=\"data row4 col1\" >1505126.5084</td>\n",
       "      <td id=\"T_e9468_row4_col2\" class=\"data row4 col2\" >1226.8360</td>\n",
       "      <td id=\"T_e9468_row4_col3\" class=\"data row4 col3\" >0.9852</td>\n",
       "      <td id=\"T_e9468_row4_col4\" class=\"data row4 col4\" >0.0681</td>\n",
       "      <td id=\"T_e9468_row4_col5\" class=\"data row4 col5\" >0.0523</td>\n",
       "    </tr>\n",
       "    <tr>\n",
       "      <th id=\"T_e9468_level0_row5\" class=\"row_heading level0 row5\" >5</th>\n",
       "      <td id=\"T_e9468_row5_col0\" class=\"data row5 col0\" >758.1128</td>\n",
       "      <td id=\"T_e9468_row5_col1\" class=\"data row5 col1\" >2698170.1978</td>\n",
       "      <td id=\"T_e9468_row5_col2\" class=\"data row5 col2\" >1642.6108</td>\n",
       "      <td id=\"T_e9468_row5_col3\" class=\"data row5 col3\" >0.9727</td>\n",
       "      <td id=\"T_e9468_row5_col4\" class=\"data row5 col4\" >0.0784</td>\n",
       "      <td id=\"T_e9468_row5_col5\" class=\"data row5 col5\" >0.0581</td>\n",
       "    </tr>\n",
       "    <tr>\n",
       "      <th id=\"T_e9468_level0_row6\" class=\"row_heading level0 row6\" >6</th>\n",
       "      <td id=\"T_e9468_row6_col0\" class=\"data row6 col0\" >846.4091</td>\n",
       "      <td id=\"T_e9468_row6_col1\" class=\"data row6 col1\" >6154298.7686</td>\n",
       "      <td id=\"T_e9468_row6_col2\" class=\"data row6 col2\" >2480.7859</td>\n",
       "      <td id=\"T_e9468_row6_col3\" class=\"data row6 col3\" >0.9401</td>\n",
       "      <td id=\"T_e9468_row6_col4\" class=\"data row6 col4\" >0.0810</td>\n",
       "      <td id=\"T_e9468_row6_col5\" class=\"data row6 col5\" >0.0583</td>\n",
       "    </tr>\n",
       "    <tr>\n",
       "      <th id=\"T_e9468_level0_row7\" class=\"row_heading level0 row7\" >7</th>\n",
       "      <td id=\"T_e9468_row7_col0\" class=\"data row7 col0\" >729.4342</td>\n",
       "      <td id=\"T_e9468_row7_col1\" class=\"data row7 col1\" >2328849.0908</td>\n",
       "      <td id=\"T_e9468_row7_col2\" class=\"data row7 col2\" >1526.0567</td>\n",
       "      <td id=\"T_e9468_row7_col3\" class=\"data row7 col3\" >0.9728</td>\n",
       "      <td id=\"T_e9468_row7_col4\" class=\"data row7 col4\" >0.0765</td>\n",
       "      <td id=\"T_e9468_row7_col5\" class=\"data row7 col5\" >0.0560</td>\n",
       "    </tr>\n",
       "    <tr>\n",
       "      <th id=\"T_e9468_level0_row8\" class=\"row_heading level0 row8\" >8</th>\n",
       "      <td id=\"T_e9468_row8_col0\" class=\"data row8 col0\" >837.5604</td>\n",
       "      <td id=\"T_e9468_row8_col1\" class=\"data row8 col1\" >2614949.9435</td>\n",
       "      <td id=\"T_e9468_row8_col2\" class=\"data row8 col2\" >1617.0807</td>\n",
       "      <td id=\"T_e9468_row8_col3\" class=\"data row8 col3\" >0.9738</td>\n",
       "      <td id=\"T_e9468_row8_col4\" class=\"data row8 col4\" >0.0824</td>\n",
       "      <td id=\"T_e9468_row8_col5\" class=\"data row8 col5\" >0.0622</td>\n",
       "    </tr>\n",
       "    <tr>\n",
       "      <th id=\"T_e9468_level0_row9\" class=\"row_heading level0 row9\" >9</th>\n",
       "      <td id=\"T_e9468_row9_col0\" class=\"data row9 col0\" >715.8950</td>\n",
       "      <td id=\"T_e9468_row9_col1\" class=\"data row9 col1\" >2427369.3891</td>\n",
       "      <td id=\"T_e9468_row9_col2\" class=\"data row9 col2\" >1558.0017</td>\n",
       "      <td id=\"T_e9468_row9_col3\" class=\"data row9 col3\" >0.9758</td>\n",
       "      <td id=\"T_e9468_row9_col4\" class=\"data row9 col4\" >0.0838</td>\n",
       "      <td id=\"T_e9468_row9_col5\" class=\"data row9 col5\" >0.0580</td>\n",
       "    </tr>\n",
       "    <tr>\n",
       "      <th id=\"T_e9468_level0_row10\" class=\"row_heading level0 row10\" >Mean</th>\n",
       "      <td id=\"T_e9468_row10_col0\" class=\"data row10 col0\" >778.9427</td>\n",
       "      <td id=\"T_e9468_row10_col1\" class=\"data row10 col1\" >3541527.2715</td>\n",
       "      <td id=\"T_e9468_row10_col2\" class=\"data row10 col2\" >1822.4956</td>\n",
       "      <td id=\"T_e9468_row10_col3\" class=\"data row10 col3\" >0.9672</td>\n",
       "      <td id=\"T_e9468_row10_col4\" class=\"data row10 col4\" >0.0788</td>\n",
       "      <td id=\"T_e9468_row10_col5\" class=\"data row10 col5\" >0.0573</td>\n",
       "    </tr>\n",
       "    <tr>\n",
       "      <th id=\"T_e9468_level0_row11\" class=\"row_heading level0 row11\" >Std</th>\n",
       "      <td id=\"T_e9468_row11_col0\" class=\"data row11 col0\" >88.2317</td>\n",
       "      <td id=\"T_e9468_row11_col1\" class=\"data row11 col1\" >1841295.9099</td>\n",
       "      <td id=\"T_e9468_row11_col2\" class=\"data row11 col2\" >469.0810</td>\n",
       "      <td id=\"T_e9468_row11_col3\" class=\"data row11 col3\" >0.0146</td>\n",
       "      <td id=\"T_e9468_row11_col4\" class=\"data row11 col4\" >0.0050</td>\n",
       "      <td id=\"T_e9468_row11_col5\" class=\"data row11 col5\" >0.0031</td>\n",
       "    </tr>\n",
       "  </tbody>\n",
       "</table>\n"
      ],
      "text/plain": [
       "<pandas.io.formats.style.Styler at 0x2a7dc961580>"
      ]
     },
     "metadata": {},
     "output_type": "display_data"
    },
    {
     "data": {
      "text/html": [],
      "text/plain": [
       "<IPython.core.display.HTML object>"
      ]
     },
     "metadata": {},
     "output_type": "display_data"
    }
   ],
   "source": [
    "lightgbm = create_model('lightgbm')"
   ]
  },
  {
   "cell_type": "code",
   "execution_count": 13,
   "metadata": {
    "colab": {
     "base_uri": "https://localhost:8080/",
     "height": 292,
     "referenced_widgets": [
      "1de1da0d08c64148935f305cafdeaadc",
      "577eb34fbd6f4bdea66489337463c354",
      "f9312a23e9af43e183ebd777b133a2a9"
     ]
    },
    "colab_type": "code",
    "id": "gmaIfnBMEQrE",
    "outputId": "bc3b8389-0387-44d4-9fd9-6d71903e2230"
   },
   "outputs": [
    {
     "data": {
      "text/html": [],
      "text/plain": [
       "<IPython.core.display.HTML object>"
      ]
     },
     "metadata": {},
     "output_type": "display_data"
    },
    {
     "data": {
      "text/html": [
       "<style type=\"text/css\">\n",
       "#T_a8cdf_row10_col0, #T_a8cdf_row10_col1, #T_a8cdf_row10_col2, #T_a8cdf_row10_col3, #T_a8cdf_row10_col4, #T_a8cdf_row10_col5 {\n",
       "  background: yellow;\n",
       "}\n",
       "</style>\n",
       "<table id=\"T_a8cdf\">\n",
       "  <thead>\n",
       "    <tr>\n",
       "      <th class=\"blank level0\" >&nbsp;</th>\n",
       "      <th id=\"T_a8cdf_level0_col0\" class=\"col_heading level0 col0\" >MAE</th>\n",
       "      <th id=\"T_a8cdf_level0_col1\" class=\"col_heading level0 col1\" >MSE</th>\n",
       "      <th id=\"T_a8cdf_level0_col2\" class=\"col_heading level0 col2\" >RMSE</th>\n",
       "      <th id=\"T_a8cdf_level0_col3\" class=\"col_heading level0 col3\" >R2</th>\n",
       "      <th id=\"T_a8cdf_level0_col4\" class=\"col_heading level0 col4\" >RMSLE</th>\n",
       "      <th id=\"T_a8cdf_level0_col5\" class=\"col_heading level0 col5\" >MAPE</th>\n",
       "    </tr>\n",
       "    <tr>\n",
       "      <th class=\"index_name level0\" >Fold</th>\n",
       "      <th class=\"blank col0\" >&nbsp;</th>\n",
       "      <th class=\"blank col1\" >&nbsp;</th>\n",
       "      <th class=\"blank col2\" >&nbsp;</th>\n",
       "      <th class=\"blank col3\" >&nbsp;</th>\n",
       "      <th class=\"blank col4\" >&nbsp;</th>\n",
       "      <th class=\"blank col5\" >&nbsp;</th>\n",
       "    </tr>\n",
       "  </thead>\n",
       "  <tbody>\n",
       "    <tr>\n",
       "      <th id=\"T_a8cdf_level0_row0\" class=\"row_heading level0 row0\" >0</th>\n",
       "      <td id=\"T_a8cdf_row0_col0\" class=\"data row0 col0\" >863.4824</td>\n",
       "      <td id=\"T_a8cdf_row0_col1\" class=\"data row0 col1\" >4070841.3163</td>\n",
       "      <td id=\"T_a8cdf_row0_col2\" class=\"data row0 col2\" >2017.6326</td>\n",
       "      <td id=\"T_a8cdf_row0_col3\" class=\"data row0 col3\" >0.9669</td>\n",
       "      <td id=\"T_a8cdf_row0_col4\" class=\"data row0 col4\" >0.1043</td>\n",
       "      <td id=\"T_a8cdf_row0_col5\" class=\"data row0 col5\" >0.0720</td>\n",
       "    </tr>\n",
       "    <tr>\n",
       "      <th id=\"T_a8cdf_level0_row1\" class=\"row_heading level0 row1\" >1</th>\n",
       "      <td id=\"T_a8cdf_row1_col0\" class=\"data row1 col0\" >1038.3901</td>\n",
       "      <td id=\"T_a8cdf_row1_col1\" class=\"data row1 col1\" >6851142.9179</td>\n",
       "      <td id=\"T_a8cdf_row1_col2\" class=\"data row1 col2\" >2617.4688</td>\n",
       "      <td id=\"T_a8cdf_row1_col3\" class=\"data row1 col3\" >0.9446</td>\n",
       "      <td id=\"T_a8cdf_row1_col4\" class=\"data row1 col4\" >0.1047</td>\n",
       "      <td id=\"T_a8cdf_row1_col5\" class=\"data row1 col5\" >0.0754</td>\n",
       "    </tr>\n",
       "    <tr>\n",
       "      <th id=\"T_a8cdf_level0_row2\" class=\"row_heading level0 row2\" >2</th>\n",
       "      <td id=\"T_a8cdf_row2_col0\" class=\"data row2 col0\" >1039.7331</td>\n",
       "      <td id=\"T_a8cdf_row2_col1\" class=\"data row2 col1\" >7162511.3618</td>\n",
       "      <td id=\"T_a8cdf_row2_col2\" class=\"data row2 col2\" >2676.2869</td>\n",
       "      <td id=\"T_a8cdf_row2_col3\" class=\"data row2 col3\" >0.9413</td>\n",
       "      <td id=\"T_a8cdf_row2_col4\" class=\"data row2 col4\" >0.1115</td>\n",
       "      <td id=\"T_a8cdf_row2_col5\" class=\"data row2 col5\" >0.0811</td>\n",
       "    </tr>\n",
       "    <tr>\n",
       "      <th id=\"T_a8cdf_level0_row3\" class=\"row_heading level0 row3\" >3</th>\n",
       "      <td id=\"T_a8cdf_row3_col0\" class=\"data row3 col0\" >797.3442</td>\n",
       "      <td id=\"T_a8cdf_row3_col1\" class=\"data row3 col1\" >1979336.8041</td>\n",
       "      <td id=\"T_a8cdf_row3_col2\" class=\"data row3 col2\" >1406.8891</td>\n",
       "      <td id=\"T_a8cdf_row3_col3\" class=\"data row3 col3\" >0.9784</td>\n",
       "      <td id=\"T_a8cdf_row3_col4\" class=\"data row3 col4\" >0.0983</td>\n",
       "      <td id=\"T_a8cdf_row3_col5\" class=\"data row3 col5\" >0.0696</td>\n",
       "    </tr>\n",
       "    <tr>\n",
       "      <th id=\"T_a8cdf_level0_row4\" class=\"row_heading level0 row4\" >4</th>\n",
       "      <td id=\"T_a8cdf_row4_col0\" class=\"data row4 col0\" >923.7252</td>\n",
       "      <td id=\"T_a8cdf_row4_col1\" class=\"data row4 col1\" >3117836.1058</td>\n",
       "      <td id=\"T_a8cdf_row4_col2\" class=\"data row4 col2\" >1765.7395</td>\n",
       "      <td id=\"T_a8cdf_row4_col3\" class=\"data row4 col3\" >0.9694</td>\n",
       "      <td id=\"T_a8cdf_row4_col4\" class=\"data row4 col4\" >0.1060</td>\n",
       "      <td id=\"T_a8cdf_row4_col5\" class=\"data row4 col5\" >0.0777</td>\n",
       "    </tr>\n",
       "    <tr>\n",
       "      <th id=\"T_a8cdf_level0_row5\" class=\"row_heading level0 row5\" >5</th>\n",
       "      <td id=\"T_a8cdf_row5_col0\" class=\"data row5 col0\" >925.6945</td>\n",
       "      <td id=\"T_a8cdf_row5_col1\" class=\"data row5 col1\" >3046045.0913</td>\n",
       "      <td id=\"T_a8cdf_row5_col2\" class=\"data row5 col2\" >1745.2923</td>\n",
       "      <td id=\"T_a8cdf_row5_col3\" class=\"data row5 col3\" >0.9692</td>\n",
       "      <td id=\"T_a8cdf_row5_col4\" class=\"data row5 col4\" >0.1292</td>\n",
       "      <td id=\"T_a8cdf_row5_col5\" class=\"data row5 col5\" >0.0841</td>\n",
       "    </tr>\n",
       "    <tr>\n",
       "      <th id=\"T_a8cdf_level0_row6\" class=\"row_heading level0 row6\" >6</th>\n",
       "      <td id=\"T_a8cdf_row6_col0\" class=\"data row6 col0\" >980.9006</td>\n",
       "      <td id=\"T_a8cdf_row6_col1\" class=\"data row6 col1\" >7715048.3913</td>\n",
       "      <td id=\"T_a8cdf_row6_col2\" class=\"data row6 col2\" >2777.5976</td>\n",
       "      <td id=\"T_a8cdf_row6_col3\" class=\"data row6 col3\" >0.9249</td>\n",
       "      <td id=\"T_a8cdf_row6_col4\" class=\"data row6 col4\" >0.1185</td>\n",
       "      <td id=\"T_a8cdf_row6_col5\" class=\"data row6 col5\" >0.0736</td>\n",
       "    </tr>\n",
       "    <tr>\n",
       "      <th id=\"T_a8cdf_level0_row7\" class=\"row_heading level0 row7\" >7</th>\n",
       "      <td id=\"T_a8cdf_row7_col0\" class=\"data row7 col0\" >858.1841</td>\n",
       "      <td id=\"T_a8cdf_row7_col1\" class=\"data row7 col1\" >3017677.4242</td>\n",
       "      <td id=\"T_a8cdf_row7_col2\" class=\"data row7 col2\" >1737.1463</td>\n",
       "      <td id=\"T_a8cdf_row7_col3\" class=\"data row7 col3\" >0.9648</td>\n",
       "      <td id=\"T_a8cdf_row7_col4\" class=\"data row7 col4\" >0.1145</td>\n",
       "      <td id=\"T_a8cdf_row7_col5\" class=\"data row7 col5\" >0.0723</td>\n",
       "    </tr>\n",
       "    <tr>\n",
       "      <th id=\"T_a8cdf_level0_row8\" class=\"row_heading level0 row8\" >8</th>\n",
       "      <td id=\"T_a8cdf_row8_col0\" class=\"data row8 col0\" >892.6893</td>\n",
       "      <td id=\"T_a8cdf_row8_col1\" class=\"data row8 col1\" >2789277.3724</td>\n",
       "      <td id=\"T_a8cdf_row8_col2\" class=\"data row8 col2\" >1670.1130</td>\n",
       "      <td id=\"T_a8cdf_row8_col3\" class=\"data row8 col3\" >0.9721</td>\n",
       "      <td id=\"T_a8cdf_row8_col4\" class=\"data row8 col4\" >0.0876</td>\n",
       "      <td id=\"T_a8cdf_row8_col5\" class=\"data row8 col5\" >0.0675</td>\n",
       "    </tr>\n",
       "    <tr>\n",
       "      <th id=\"T_a8cdf_level0_row9\" class=\"row_heading level0 row9\" >9</th>\n",
       "      <td id=\"T_a8cdf_row9_col0\" class=\"data row9 col0\" >847.1668</td>\n",
       "      <td id=\"T_a8cdf_row9_col1\" class=\"data row9 col1\" >2888675.5548</td>\n",
       "      <td id=\"T_a8cdf_row9_col2\" class=\"data row9 col2\" >1699.6104</td>\n",
       "      <td id=\"T_a8cdf_row9_col3\" class=\"data row9 col3\" >0.9712</td>\n",
       "      <td id=\"T_a8cdf_row9_col4\" class=\"data row9 col4\" >0.1175</td>\n",
       "      <td id=\"T_a8cdf_row9_col5\" class=\"data row9 col5\" >0.0808</td>\n",
       "    </tr>\n",
       "    <tr>\n",
       "      <th id=\"T_a8cdf_level0_row10\" class=\"row_heading level0 row10\" >Mean</th>\n",
       "      <td id=\"T_a8cdf_row10_col0\" class=\"data row10 col0\" >916.7310</td>\n",
       "      <td id=\"T_a8cdf_row10_col1\" class=\"data row10 col1\" >4263839.2340</td>\n",
       "      <td id=\"T_a8cdf_row10_col2\" class=\"data row10 col2\" >2011.3776</td>\n",
       "      <td id=\"T_a8cdf_row10_col3\" class=\"data row10 col3\" >0.9603</td>\n",
       "      <td id=\"T_a8cdf_row10_col4\" class=\"data row10 col4\" >0.1092</td>\n",
       "      <td id=\"T_a8cdf_row10_col5\" class=\"data row10 col5\" >0.0754</td>\n",
       "    </tr>\n",
       "    <tr>\n",
       "      <th id=\"T_a8cdf_level0_row11\" class=\"row_heading level0 row11\" >Std</th>\n",
       "      <td id=\"T_a8cdf_row11_col0\" class=\"data row11 col0\" >77.5313</td>\n",
       "      <td id=\"T_a8cdf_row11_col1\" class=\"data row11 col1\" >2016882.6808</td>\n",
       "      <td id=\"T_a8cdf_row11_col2\" class=\"data row11 col2\" >467.1180</td>\n",
       "      <td id=\"T_a8cdf_row11_col3\" class=\"data row11 col3\" >0.0163</td>\n",
       "      <td id=\"T_a8cdf_row11_col4\" class=\"data row11 col4\" >0.0111</td>\n",
       "      <td id=\"T_a8cdf_row11_col5\" class=\"data row11 col5\" >0.0051</td>\n",
       "    </tr>\n",
       "  </tbody>\n",
       "</table>\n"
      ],
      "text/plain": [
       "<pandas.io.formats.style.Styler at 0x2a7dc68e160>"
      ]
     },
     "metadata": {},
     "output_type": "display_data"
    },
    {
     "data": {
      "text/html": [],
      "text/plain": [
       "<IPython.core.display.HTML object>"
      ]
     },
     "metadata": {},
     "output_type": "display_data"
    },
    {
     "name": "stdout",
     "output_type": "stream",
     "text": [
      "Fitting 10 folds for each of 10 candidates, totalling 100 fits\n",
      "Original model was better than the tuned model, hence it will be returned. NOTE: The display metrics are for the tuned model (not the original one).\n"
     ]
    }
   ],
   "source": [
    "tuned_lightgbm = tune_model(lightgbm)"
   ]
  },
  {
   "cell_type": "code",
   "execution_count": 14,
   "metadata": {
    "colab": {
     "base_uri": "https://localhost:8080/",
     "height": 80
    },
    "colab_type": "code",
    "id": "nwaZk6oTEQsi",
    "outputId": "594ed7b7-0b2d-4a90-ab31-a0bace294024"
   },
   "outputs": [
    {
     "data": {
      "text/html": [
       "<style type=\"text/css\">\n",
       "</style>\n",
       "<table id=\"T_073fc\">\n",
       "  <thead>\n",
       "    <tr>\n",
       "      <th class=\"blank level0\" >&nbsp;</th>\n",
       "      <th id=\"T_073fc_level0_col0\" class=\"col_heading level0 col0\" >Model</th>\n",
       "      <th id=\"T_073fc_level0_col1\" class=\"col_heading level0 col1\" >MAE</th>\n",
       "      <th id=\"T_073fc_level0_col2\" class=\"col_heading level0 col2\" >MSE</th>\n",
       "      <th id=\"T_073fc_level0_col3\" class=\"col_heading level0 col3\" >RMSE</th>\n",
       "      <th id=\"T_073fc_level0_col4\" class=\"col_heading level0 col4\" >R2</th>\n",
       "      <th id=\"T_073fc_level0_col5\" class=\"col_heading level0 col5\" >RMSLE</th>\n",
       "      <th id=\"T_073fc_level0_col6\" class=\"col_heading level0 col6\" >MAPE</th>\n",
       "    </tr>\n",
       "  </thead>\n",
       "  <tbody>\n",
       "    <tr>\n",
       "      <th id=\"T_073fc_level0_row0\" class=\"row_heading level0 row0\" >0</th>\n",
       "      <td id=\"T_073fc_row0_col0\" class=\"data row0 col0\" >Light Gradient Boosting Machine</td>\n",
       "      <td id=\"T_073fc_row0_col1\" class=\"data row0 col1\" >712.3047</td>\n",
       "      <td id=\"T_073fc_row0_col2\" class=\"data row0 col2\" >2288865.2634</td>\n",
       "      <td id=\"T_073fc_row0_col3\" class=\"data row0 col3\" >1512.8996</td>\n",
       "      <td id=\"T_073fc_row0_col4\" class=\"data row0 col4\" >0.9776</td>\n",
       "      <td id=\"T_073fc_row0_col5\" class=\"data row0 col5\" >0.0746</td>\n",
       "      <td id=\"T_073fc_row0_col6\" class=\"data row0 col6\" >0.0544</td>\n",
       "    </tr>\n",
       "  </tbody>\n",
       "</table>\n"
      ],
      "text/plain": [
       "<pandas.io.formats.style.Styler at 0x2a7d9ad6580>"
      ]
     },
     "metadata": {},
     "output_type": "display_data"
    }
   ],
   "source": [
    "predict_model(tuned_lightgbm );"
   ]
  },
  {
   "cell_type": "markdown",
   "metadata": {
    "colab_type": "text",
    "id": "r79BGjIfEQs1"
   },
   "source": [
    "### Finalize the model"
   ]
  },
  {
   "cell_type": "code",
   "execution_count": 15,
   "metadata": {
    "colab": {},
    "colab_type": "code",
    "id": "_--tO4KGEQs-"
   },
   "outputs": [],
   "source": [
    "final_lightgbm  = finalize_model(tuned_lightgbm )"
   ]
  },
  {
   "cell_type": "code",
   "execution_count": 16,
   "metadata": {
    "colab": {
     "base_uri": "https://localhost:8080/",
     "height": 125
    },
    "colab_type": "code",
    "id": "U9W6kXsSEQtQ",
    "outputId": "4bfc1789-f50e-4dc5-aa76-8ec80e7fe6b4"
   },
   "outputs": [
    {
     "name": "stdout",
     "output_type": "stream",
     "text": [
      "Pipeline(memory=FastMemory(location=C:\\Users\\CAPLOG~1\\AppData\\Local\\Temp\\joblib),\n",
      "         steps=[('numerical_imputer',\n",
      "                 TransformerWrapper(include=['Carat Weight'],\n",
      "                                    transformer=SimpleImputer())),\n",
      "                ('categorical_imputer',\n",
      "                 TransformerWrapper(include=['Cut', 'Color', 'Clarity',\n",
      "                                             'Polish', 'Symmetry', 'Report'],\n",
      "                                    transformer=SimpleImputer(strategy='most_frequent'))),\n",
      "                ('ordinal...\n",
      "                ('onehot_encoding',\n",
      "                 TransformerWrapper(include=['Cut', 'Color', 'Clarity',\n",
      "                                             'Polish', 'Symmetry'],\n",
      "                                    transformer=OneHotEncoder(cols=['Cut',\n",
      "                                                                    'Color',\n",
      "                                                                    'Clarity',\n",
      "                                                                    'Polish',\n",
      "                                                                    'Symmetry'],\n",
      "                                                              handle_missing='return_nan',\n",
      "                                                              use_cat_names=True))),\n",
      "                ('clean_column_names',\n",
      "                 TransformerWrapper(transformer=CleanColumnNames())),\n",
      "                ('actual_estimator',\n",
      "                 LGBMRegressor(n_jobs=-1, random_state=123))])\n"
     ]
    }
   ],
   "source": [
    "print(final_lightgbm)"
   ]
  },
  {
   "cell_type": "code",
   "execution_count": 17,
   "metadata": {
    "colab": {
     "base_uri": "https://localhost:8080/",
     "height": 80
    },
    "colab_type": "code",
    "id": "NJDk3I-EEQtg",
    "outputId": "18b12734-b0fb-4270-daca-c177d4dbb16c"
   },
   "outputs": [
    {
     "data": {
      "text/html": [
       "<style type=\"text/css\">\n",
       "</style>\n",
       "<table id=\"T_6307d\">\n",
       "  <thead>\n",
       "    <tr>\n",
       "      <th class=\"blank level0\" >&nbsp;</th>\n",
       "      <th id=\"T_6307d_level0_col0\" class=\"col_heading level0 col0\" >Model</th>\n",
       "      <th id=\"T_6307d_level0_col1\" class=\"col_heading level0 col1\" >MAE</th>\n",
       "      <th id=\"T_6307d_level0_col2\" class=\"col_heading level0 col2\" >MSE</th>\n",
       "      <th id=\"T_6307d_level0_col3\" class=\"col_heading level0 col3\" >RMSE</th>\n",
       "      <th id=\"T_6307d_level0_col4\" class=\"col_heading level0 col4\" >R2</th>\n",
       "      <th id=\"T_6307d_level0_col5\" class=\"col_heading level0 col5\" >RMSLE</th>\n",
       "      <th id=\"T_6307d_level0_col6\" class=\"col_heading level0 col6\" >MAPE</th>\n",
       "    </tr>\n",
       "  </thead>\n",
       "  <tbody>\n",
       "    <tr>\n",
       "      <th id=\"T_6307d_level0_row0\" class=\"row_heading level0 row0\" >0</th>\n",
       "      <td id=\"T_6307d_row0_col0\" class=\"data row0 col0\" >Light Gradient Boosting Machine</td>\n",
       "      <td id=\"T_6307d_row0_col1\" class=\"data row0 col1\" >532.1047</td>\n",
       "      <td id=\"T_6307d_row0_col2\" class=\"data row0 col2\" >880939.6565</td>\n",
       "      <td id=\"T_6307d_row0_col3\" class=\"data row0 col3\" >938.5839</td>\n",
       "      <td id=\"T_6307d_row0_col4\" class=\"data row0 col4\" >0.9914</td>\n",
       "      <td id=\"T_6307d_row0_col5\" class=\"data row0 col5\" >0.0625</td>\n",
       "      <td id=\"T_6307d_row0_col6\" class=\"data row0 col6\" >0.0463</td>\n",
       "    </tr>\n",
       "  </tbody>\n",
       "</table>\n"
      ],
      "text/plain": [
       "<pandas.io.formats.style.Styler at 0x2a7dc886ca0>"
      ]
     },
     "metadata": {},
     "output_type": "display_data"
    }
   ],
   "source": [
    "predict_model(final_lightgbm);"
   ]
  },
  {
   "cell_type": "markdown",
   "metadata": {
    "colab_type": "text",
    "id": "dWU2Dmdx2UNZ"
   },
   "source": [
    "# Deploy the model to Microsoft Azure\n",
    "\n",
    "This is the code to implement the model in Microsoft Azure using the `pycaret` features."
   ]
  },
  {
   "cell_type": "code",
   "execution_count": 18,
   "metadata": {},
   "outputs": [],
   "source": [
    "def create_container(container_name):\n",
    "\n",
    "  # Create the container\n",
    "    container_client = blob_service_client.create_container(container_name)\n",
    "\n",
    "    return container_client\n",
    "\n",
    "def upload_blob(container_name, source_file_name, destination_blob_name):\n",
    "\n",
    "  # Create a blob client using the local file name as the name for the blob\n",
    "    blob_client = blob_service_client.get_blob_client(container=container_name, blob=destination_blob_name)\n",
    "\n",
    "    print(\"\\nUploading to Azure Storage as blob:\\n\\t\" + source_file_name)\n",
    "\n",
    "  # Upload the created file\n",
    "    with open(source_file_name, \"rb\") as data:\n",
    "        blob_client.upload_blob(data)\n",
    "\n",
    "def download_blob(container_name, source_blob_name, destination_file_name):\n",
    "  # Download the blob to a local file\n",
    "    print(\"\\nDownloading blob to \\n\\t\" + destination_file_name)\n",
    "\n",
    "  # Create a blob client using the local file name as the name for the blob\n",
    "    blob_client = blob_service_client.get_blob_client(container=container_name, blob=source_blob_name)\n",
    "\n",
    "    if destination_file_name is not None: \n",
    "        with open(destination_file_name, \"wb\") as download_file:\n",
    "            download_file.write(blob_client.download_blob().readall())\n",
    "\n",
    "        print(\n",
    "            \"Blob {} downloaded to {}.\".format(\n",
    "                source_blob_name, destination_file_name\n",
    "            )\n",
    "        )"
   ]
  },
  {
   "cell_type": "code",
   "execution_count": 19,
   "metadata": {},
   "outputs": [],
   "source": [
    "import os, uuid\n",
    "from azure.storage.blob import BlobServiceClient, BlobClient, ContainerClient"
   ]
  },
  {
   "cell_type": "markdown",
   "metadata": {},
   "source": [
    "#### Here you should put the access token (Connection String)"
   ]
  },
  {
   "cell_type": "code",
   "execution_count": 20,
   "metadata": {
    "colab": {},
    "colab_type": "code",
    "id": "ImFnwpb52iDl"
   },
   "outputs": [
    {
     "name": "stdout",
     "output_type": "stream",
     "text": [
      "DefaultEndpointsProtocol=https;AccountName=machinelearninginsurance;AccountKey=t1ocBOnBT1jKNmfVa0j9TN///NfkxS0fjucCK3KG4SCcqHDBXIyceHU/SYjj0Odmrp1jX/Jvd0ZR+AStVL/6cA==;EndpointSuffix=core.windows.net\n"
     ]
    }
   ],
   "source": [
    "## Enter connection string when running in google colab\n",
    "connect_str = 'DefaultEndpointsProtocol=https;AccountName=machinelearninginsurance;AccountKey=t1ocBOnBT1jKNmfVa0j9TN///NfkxS0fjucCK3KG4SCcqHDBXIyceHU/SYjj0Odmrp1jX/Jvd0ZR+AStVL/6cA==;EndpointSuffix=core.windows.net' \n",
    "print(connect_str)"
   ]
  },
  {
   "cell_type": "code",
   "execution_count": 21,
   "metadata": {},
   "outputs": [],
   "source": [
    "# Create the BlobServiceClient object which will be used to create a container client\n",
    "blob_service_client = BlobServiceClient.from_connection_string(connect_str)"
   ]
  },
  {
   "cell_type": "markdown",
   "metadata": {},
   "source": [
    "##### Create the container in the Blob Storage"
   ]
  },
  {
   "cell_type": "code",
   "execution_count": 22,
   "metadata": {},
   "outputs": [],
   "source": [
    "# Create a unique name for the container\n",
    "container_name = \"machinelearninginsurance\"\n",
    "container_client = create_container(container_name)\n",
    "model_dir = 'modelo'"
   ]
  },
  {
   "cell_type": "code",
   "execution_count": 23,
   "metadata": {},
   "outputs": [],
   "source": [
    "# Save Model Local and upload to Azure\n",
    "model_name_azure = 'lightgbm-reg-101'\n",
    "save_model(final_lightgbm, \n",
    "           model_name= model_name_azure, \n",
    "           verbose=False)\n",
    "\n",
    "model_src = model_name_azure +'.pkl'\n",
    "model_dst = str(model_name_azure)+'.pkl'"
   ]
  },
  {
   "cell_type": "markdown",
   "metadata": {},
   "source": [
    "##### Upload the model"
   ]
  },
  {
   "cell_type": "code",
   "execution_count": 24,
   "metadata": {},
   "outputs": [
    {
     "name": "stdout",
     "output_type": "stream",
     "text": [
      "\n",
      "Uploading to Azure Storage as blob:\n",
      "\tlightgbm-reg-101.pkl\n"
     ]
    }
   ],
   "source": [
    "upload_blob(container_name, model_src, model_dst)"
   ]
  },
  {
   "cell_type": "code",
   "execution_count": null,
   "metadata": {},
   "outputs": [],
   "source": []
  }
 ],
 "metadata": {
  "colab": {
   "collapsed_sections": [],
   "include_colab_link": true,
   "name": "test_notebook_model_deployment_azure_gcp_regression.ipynb",
   "provenance": []
  },
  "kernelspec": {
   "display_name": "Python 3 (ipykernel)",
   "language": "python",
   "name": "python3"
  },
  "language_info": {
   "codemirror_mode": {
    "name": "ipython",
    "version": 3
   },
   "file_extension": ".py",
   "mimetype": "text/x-python",
   "name": "python",
   "nbconvert_exporter": "python",
   "pygments_lexer": "ipython3",
   "version": "3.11.7"
  },
  "widgets": {
   "application/vnd.jupyter.widget-state+json": {
    "09690916f8634c01b8b289d83119e178": {
     "model_module": "@jupyter-widgets/base",
     "model_name": "LayoutModel",
     "state": {
      "_model_module": "@jupyter-widgets/base",
      "_model_module_version": "1.2.0",
      "_model_name": "LayoutModel",
      "_view_count": null,
      "_view_module": "@jupyter-widgets/base",
      "_view_module_version": "1.2.0",
      "_view_name": "LayoutView",
      "align_content": null,
      "align_items": null,
      "align_self": null,
      "border": null,
      "bottom": null,
      "display": null,
      "flex": null,
      "flex_flow": null,
      "grid_area": null,
      "grid_auto_columns": null,
      "grid_auto_flow": null,
      "grid_auto_rows": null,
      "grid_column": null,
      "grid_gap": null,
      "grid_row": null,
      "grid_template_areas": null,
      "grid_template_columns": null,
      "grid_template_rows": null,
      "height": null,
      "justify_content": null,
      "justify_items": null,
      "left": null,
      "margin": null,
      "max_height": null,
      "max_width": null,
      "min_height": null,
      "min_width": null,
      "object_fit": null,
      "object_position": null,
      "order": null,
      "overflow": null,
      "overflow_x": null,
      "overflow_y": null,
      "padding": null,
      "right": null,
      "top": null,
      "visibility": null,
      "width": null
     }
    },
    "0f57ccbc1ce543ad9b7d837c7fe03595": {
     "model_module": "@jupyter-widgets/controls",
     "model_name": "ProgressStyleModel",
     "state": {
      "_model_module": "@jupyter-widgets/controls",
      "_model_module_version": "1.5.0",
      "_model_name": "ProgressStyleModel",
      "_view_count": null,
      "_view_module": "@jupyter-widgets/base",
      "_view_module_version": "1.2.0",
      "_view_name": "StyleView",
      "bar_color": null,
      "description_width": ""
     }
    },
    "1de1da0d08c64148935f305cafdeaadc": {
     "model_module": "@jupyter-widgets/controls",
     "model_name": "IntProgressModel",
     "state": {
      "_dom_classes": [],
      "_model_module": "@jupyter-widgets/controls",
      "_model_module_version": "1.5.0",
      "_model_name": "IntProgressModel",
      "_view_count": null,
      "_view_module": "@jupyter-widgets/controls",
      "_view_module_version": "1.5.0",
      "_view_name": "ProgressView",
      "bar_style": "",
      "description": "Processing: ",
      "description_tooltip": null,
      "layout": "IPY_MODEL_f9312a23e9af43e183ebd777b133a2a9",
      "max": 16,
      "min": 0,
      "orientation": "horizontal",
      "style": "IPY_MODEL_577eb34fbd6f4bdea66489337463c354",
      "value": 16
     }
    },
    "2dae5a1a055343ea88a268f14cc53a49": {
     "model_module": "@jupyter-widgets/base",
     "model_name": "LayoutModel",
     "state": {
      "_model_module": "@jupyter-widgets/base",
      "_model_module_version": "1.2.0",
      "_model_name": "LayoutModel",
      "_view_count": null,
      "_view_module": "@jupyter-widgets/base",
      "_view_module_version": "1.2.0",
      "_view_name": "LayoutView",
      "align_content": null,
      "align_items": null,
      "align_self": null,
      "border": null,
      "bottom": null,
      "display": null,
      "flex": null,
      "flex_flow": null,
      "grid_area": null,
      "grid_auto_columns": null,
      "grid_auto_flow": null,
      "grid_auto_rows": null,
      "grid_column": null,
      "grid_gap": null,
      "grid_row": null,
      "grid_template_areas": null,
      "grid_template_columns": null,
      "grid_template_rows": null,
      "height": null,
      "justify_content": null,
      "justify_items": null,
      "left": null,
      "margin": null,
      "max_height": null,
      "max_width": null,
      "min_height": null,
      "min_width": null,
      "object_fit": null,
      "object_position": null,
      "order": null,
      "overflow": null,
      "overflow_x": null,
      "overflow_y": null,
      "padding": null,
      "right": null,
      "top": null,
      "visibility": null,
      "width": null
     }
    },
    "577eb34fbd6f4bdea66489337463c354": {
     "model_module": "@jupyter-widgets/controls",
     "model_name": "ProgressStyleModel",
     "state": {
      "_model_module": "@jupyter-widgets/controls",
      "_model_module_version": "1.5.0",
      "_model_name": "ProgressStyleModel",
      "_view_count": null,
      "_view_module": "@jupyter-widgets/base",
      "_view_module_version": "1.2.0",
      "_view_name": "StyleView",
      "bar_color": null,
      "description_width": ""
     }
    },
    "5db0cd1626b044b6ada0e461e2d7c94b": {
     "model_module": "@jupyter-widgets/controls",
     "model_name": "DescriptionStyleModel",
     "state": {
      "_model_module": "@jupyter-widgets/controls",
      "_model_module_version": "1.5.0",
      "_model_name": "DescriptionStyleModel",
      "_view_count": null,
      "_view_module": "@jupyter-widgets/base",
      "_view_module_version": "1.2.0",
      "_view_name": "StyleView",
      "description_width": ""
     }
    },
    "8a5e8367e06b49dcbe1550b7ce9a8380": {
     "model_module": "@jupyter-widgets/base",
     "model_name": "LayoutModel",
     "state": {
      "_model_module": "@jupyter-widgets/base",
      "_model_module_version": "1.2.0",
      "_model_name": "LayoutModel",
      "_view_count": null,
      "_view_module": "@jupyter-widgets/base",
      "_view_module_version": "1.2.0",
      "_view_name": "LayoutView",
      "align_content": null,
      "align_items": null,
      "align_self": null,
      "border": null,
      "bottom": null,
      "display": null,
      "flex": null,
      "flex_flow": null,
      "grid_area": null,
      "grid_auto_columns": null,
      "grid_auto_flow": null,
      "grid_auto_rows": null,
      "grid_column": null,
      "grid_gap": null,
      "grid_row": null,
      "grid_template_areas": null,
      "grid_template_columns": null,
      "grid_template_rows": null,
      "height": null,
      "justify_content": null,
      "justify_items": null,
      "left": null,
      "margin": null,
      "max_height": null,
      "max_width": null,
      "min_height": null,
      "min_width": null,
      "object_fit": null,
      "object_position": null,
      "order": null,
      "overflow": null,
      "overflow_x": null,
      "overflow_y": null,
      "padding": null,
      "right": null,
      "top": null,
      "visibility": null,
      "width": "100%"
     }
    },
    "c2e2060613d444078b48b60e30a112e7": {
     "model_module": "@jupyter-widgets/controls",
     "model_name": "ProgressStyleModel",
     "state": {
      "_model_module": "@jupyter-widgets/controls",
      "_model_module_version": "1.5.0",
      "_model_name": "ProgressStyleModel",
      "_view_count": null,
      "_view_module": "@jupyter-widgets/base",
      "_view_module_version": "1.2.0",
      "_view_name": "StyleView",
      "bar_color": null,
      "description_width": ""
     }
    },
    "dbb0c8ed8d2f4b37a492d777d1cfcd48": {
     "model_module": "@jupyter-widgets/controls",
     "model_name": "TextModel",
     "state": {
      "_dom_classes": [],
      "_model_module": "@jupyter-widgets/controls",
      "_model_module_version": "1.5.0",
      "_model_name": "TextModel",
      "_view_count": null,
      "_view_module": "@jupyter-widgets/controls",
      "_view_module_version": "1.5.0",
      "_view_name": "TextView",
      "continuous_update": true,
      "description": "",
      "description_tooltip": null,
      "disabled": false,
      "layout": "IPY_MODEL_8a5e8367e06b49dcbe1550b7ce9a8380",
      "placeholder": "​",
      "style": "IPY_MODEL_5db0cd1626b044b6ada0e461e2d7c94b",
      "value": "Following data types have been inferred automatically, if they are correct press enter to continue or type 'quit' otherwise."
     }
    },
    "efaff962f0a94c8d8f5d06311e023506": {
     "model_module": "@jupyter-widgets/controls",
     "model_name": "IntProgressModel",
     "state": {
      "_dom_classes": [],
      "_model_module": "@jupyter-widgets/controls",
      "_model_module_version": "1.5.0",
      "_model_name": "IntProgressModel",
      "_view_count": null,
      "_view_module": "@jupyter-widgets/controls",
      "_view_module_version": "1.5.0",
      "_view_name": "ProgressView",
      "bar_style": "",
      "description": "Processing: ",
      "description_tooltip": null,
      "layout": "IPY_MODEL_09690916f8634c01b8b289d83119e178",
      "max": 13,
      "min": 0,
      "orientation": "horizontal",
      "style": "IPY_MODEL_c2e2060613d444078b48b60e30a112e7",
      "value": 3
     }
    },
    "f82b0cd6d54b427ea21cf2a5b2958c21": {
     "model_module": "@jupyter-widgets/controls",
     "model_name": "IntProgressModel",
     "state": {
      "_dom_classes": [],
      "_model_module": "@jupyter-widgets/controls",
      "_model_module_version": "1.5.0",
      "_model_name": "IntProgressModel",
      "_view_count": null,
      "_view_module": "@jupyter-widgets/controls",
      "_view_module_version": "1.5.0",
      "_view_name": "ProgressView",
      "bar_style": "",
      "description": "Processing: ",
      "description_tooltip": null,
      "layout": "IPY_MODEL_2dae5a1a055343ea88a268f14cc53a49",
      "max": 14,
      "min": 0,
      "orientation": "horizontal",
      "style": "IPY_MODEL_0f57ccbc1ce543ad9b7d837c7fe03595",
      "value": 14
     }
    },
    "f9312a23e9af43e183ebd777b133a2a9": {
     "model_module": "@jupyter-widgets/base",
     "model_name": "LayoutModel",
     "state": {
      "_model_module": "@jupyter-widgets/base",
      "_model_module_version": "1.2.0",
      "_model_name": "LayoutModel",
      "_view_count": null,
      "_view_module": "@jupyter-widgets/base",
      "_view_module_version": "1.2.0",
      "_view_name": "LayoutView",
      "align_content": null,
      "align_items": null,
      "align_self": null,
      "border": null,
      "bottom": null,
      "display": null,
      "flex": null,
      "flex_flow": null,
      "grid_area": null,
      "grid_auto_columns": null,
      "grid_auto_flow": null,
      "grid_auto_rows": null,
      "grid_column": null,
      "grid_gap": null,
      "grid_row": null,
      "grid_template_areas": null,
      "grid_template_columns": null,
      "grid_template_rows": null,
      "height": null,
      "justify_content": null,
      "justify_items": null,
      "left": null,
      "margin": null,
      "max_height": null,
      "max_width": null,
      "min_height": null,
      "min_width": null,
      "object_fit": null,
      "object_position": null,
      "order": null,
      "overflow": null,
      "overflow_x": null,
      "overflow_y": null,
      "padding": null,
      "right": null,
      "top": null,
      "visibility": null,
      "width": null
     }
    }
   }
  }
 },
 "nbformat": 4,
 "nbformat_minor": 4
}
